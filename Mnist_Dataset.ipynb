{
  "nbformat": 4,
  "nbformat_minor": 0,
  "metadata": {
    "colab": {
      "name": "Mnist_Dataset.ipynb",
      "provenance": [],
      "authorship_tag": "ABX9TyOIdzzQMbZqWORiJufpwpRp",
      "include_colab_link": true
    },
    "kernelspec": {
      "name": "python3",
      "display_name": "Python 3"
    },
    "accelerator": "GPU"
  },
  "cells": [
    {
      "cell_type": "markdown",
      "metadata": {
        "id": "view-in-github",
        "colab_type": "text"
      },
      "source": [
        "<a href=\"https://colab.research.google.com/github/rohithrtvarma/Deep-Learning-/blob/master/Mnist_Dataset.ipynb\" target=\"_parent\"><img src=\"https://colab.research.google.com/assets/colab-badge.svg\" alt=\"Open In Colab\"/></a>"
      ]
    },
    {
      "cell_type": "code",
      "metadata": {
        "id": "NTqtpC35BL_p",
        "colab_type": "code",
        "colab": {}
      },
      "source": [
        "import tensorflow as tf"
      ],
      "execution_count": 1,
      "outputs": []
    },
    {
      "cell_type": "markdown",
      "metadata": {
        "id": "jW-cf1EMhwO-",
        "colab_type": "text"
      },
      "source": [
        "The MNIST database of handwritten digits, available from this page, has a training set of 60,000 examples, and a test set of 10,000 examples. It is a subset of a larger set available from NIST. The digits have been size-normalized and centered in a fixed-size image.\n",
        "It is a good database for people who want to try learning techniques and pattern recognition methods on real-world data while spending minimal efforts on preprocessing and formatting."
      ]
    },
    {
      "cell_type": "code",
      "metadata": {
        "id": "dsOZ-cKYB4MI",
        "colab_type": "code",
        "colab": {
          "base_uri": "https://localhost:8080/",
          "height": 35
        },
        "outputId": "18087ec0-5f8b-41c5-e999-a90357cb73f7"
      },
      "source": [
        "tf.__version__"
      ],
      "execution_count": 2,
      "outputs": [
        {
          "output_type": "execute_result",
          "data": {
            "application/vnd.google.colaboratory.intrinsic+json": {
              "type": "string"
            },
            "text/plain": [
              "'2.2.0'"
            ]
          },
          "metadata": {
            "tags": []
          },
          "execution_count": 2
        }
      ]
    },
    {
      "cell_type": "code",
      "metadata": {
        "id": "QHH_zD4wB_ve",
        "colab_type": "code",
        "colab": {}
      },
      "source": [
        "from tensorflow import keras\n",
        "from tensorflow.keras import layers"
      ],
      "execution_count": 4,
      "outputs": []
    },
    {
      "cell_type": "code",
      "metadata": {
        "id": "PTd5Z5W1CNzC",
        "colab_type": "code",
        "colab": {}
      },
      "source": [
        "(x_train, y_train), (x_test, y_test)=tf.keras.datasets.mnist.load_data()"
      ],
      "execution_count": 34,
      "outputs": []
    },
    {
      "cell_type": "code",
      "metadata": {
        "id": "UtUa9sMaCtZD",
        "colab_type": "code",
        "colab": {}
      },
      "source": [
        "\n",
        "x_train = x_train.reshape(60000,784)\n",
        "x_test = x_test.reshape(10000,784)\n",
        "\n",
        "x_train = x_train.astype('float32')\n",
        "x_test = x_test.astype('float32') "
      ],
      "execution_count": 35,
      "outputs": []
    },
    {
      "cell_type": "code",
      "metadata": {
        "id": "43TkHj-QDMlz",
        "colab_type": "code",
        "colab": {}
      },
      "source": [
        "x_train=x_train/255"
      ],
      "execution_count": 36,
      "outputs": []
    },
    {
      "cell_type": "code",
      "metadata": {
        "id": "RCLqPJlSJHfX",
        "colab_type": "code",
        "colab": {}
      },
      "source": [
        "x_test=x_test/255"
      ],
      "execution_count": 37,
      "outputs": []
    },
    {
      "cell_type": "code",
      "metadata": {
        "id": "U_UL1IpOJgra",
        "colab_type": "code",
        "colab": {}
      },
      "source": [
        "#model architecture\n",
        "from keras.models import Sequential\n",
        "from keras.layers import Dense\n",
        "model=Sequential()\n",
        "model.add(Dense(32,input_dim=784,activation='relu'))\n",
        "model.add(Dense(16,activation='relu'))\n",
        "model.add(Dense(10,activation='softmax'))"
      ],
      "execution_count": 38,
      "outputs": []
    },
    {
      "cell_type": "code",
      "metadata": {
        "id": "GnRhMYvsK1cF",
        "colab_type": "code",
        "colab": {}
      },
      "source": [
        "# compile the keras model\n",
        "model.compile(loss='sparse_categorical_crossentropy', optimizer='adam', metrics=['accuracy'])"
      ],
      "execution_count": 39,
      "outputs": []
    },
    {
      "cell_type": "code",
      "metadata": {
        "id": "Dseh5mThK2dg",
        "colab_type": "code",
        "colab": {
          "base_uri": "https://localhost:8080/",
          "height": 1000
        },
        "outputId": "a89d36b9-eea2-4bd1-c582-e3ff96b1c9ef"
      },
      "source": [
        "# fit the keras model on the dataset\n",
        "model.fit(x_train, y_train, epochs=150, batch_size=10)"
      ],
      "execution_count": 40,
      "outputs": [
        {
          "output_type": "stream",
          "text": [
            "Epoch 1/150\n",
            "60000/60000 [==============================] - 18s 297us/step - loss: 0.3022 - accuracy: 0.9115\n",
            "Epoch 2/150\n",
            "60000/60000 [==============================] - 16s 263us/step - loss: 0.1571 - accuracy: 0.9534\n",
            "Epoch 3/150\n",
            "60000/60000 [==============================] - 16s 260us/step - loss: 0.1246 - accuracy: 0.9623\n",
            "Epoch 4/150\n",
            "60000/60000 [==============================] - 16s 262us/step - loss: 0.1056 - accuracy: 0.9678\n",
            "Epoch 5/150\n",
            "60000/60000 [==============================] - 15s 255us/step - loss: 0.0937 - accuracy: 0.9710\n",
            "Epoch 6/150\n",
            "60000/60000 [==============================] - 16s 266us/step - loss: 0.0848 - accuracy: 0.9738\n",
            "Epoch 7/150\n",
            "60000/60000 [==============================] - 16s 260us/step - loss: 0.0771 - accuracy: 0.9769\n",
            "Epoch 8/150\n",
            "60000/60000 [==============================] - 16s 260us/step - loss: 0.0732 - accuracy: 0.9766\n",
            "Epoch 9/150\n",
            "60000/60000 [==============================] - 16s 259us/step - loss: 0.0680 - accuracy: 0.9787\n",
            "Epoch 10/150\n",
            "60000/60000 [==============================] - 15s 255us/step - loss: 0.0613 - accuracy: 0.9810\n",
            "Epoch 11/150\n",
            "60000/60000 [==============================] - 15s 258us/step - loss: 0.0596 - accuracy: 0.9815\n",
            "Epoch 12/150\n",
            "60000/60000 [==============================] - 15s 258us/step - loss: 0.0566 - accuracy: 0.9820\n",
            "Epoch 13/150\n",
            "60000/60000 [==============================] - 16s 260us/step - loss: 0.0520 - accuracy: 0.9833\n",
            "Epoch 14/150\n",
            "60000/60000 [==============================] - 15s 248us/step - loss: 0.0503 - accuracy: 0.9838\n",
            "Epoch 15/150\n",
            "60000/60000 [==============================] - 15s 250us/step - loss: 0.0479 - accuracy: 0.9842\n",
            "Epoch 16/150\n",
            "60000/60000 [==============================] - 15s 248us/step - loss: 0.0451 - accuracy: 0.9853\n",
            "Epoch 17/150\n",
            "60000/60000 [==============================] - 15s 247us/step - loss: 0.0417 - accuracy: 0.9869\n",
            "Epoch 18/150\n",
            "60000/60000 [==============================] - 15s 248us/step - loss: 0.0405 - accuracy: 0.9871\n",
            "Epoch 19/150\n",
            "60000/60000 [==============================] - 15s 243us/step - loss: 0.0405 - accuracy: 0.9869\n",
            "Epoch 20/150\n",
            "60000/60000 [==============================] - 15s 246us/step - loss: 0.0378 - accuracy: 0.9873\n",
            "Epoch 21/150\n",
            "60000/60000 [==============================] - 15s 246us/step - loss: 0.0353 - accuracy: 0.9883\n",
            "Epoch 22/150\n",
            "60000/60000 [==============================] - 15s 251us/step - loss: 0.0348 - accuracy: 0.9884\n",
            "Epoch 23/150\n",
            "60000/60000 [==============================] - 15s 251us/step - loss: 0.0336 - accuracy: 0.9889\n",
            "Epoch 24/150\n",
            "60000/60000 [==============================] - 14s 240us/step - loss: 0.0324 - accuracy: 0.9891\n",
            "Epoch 25/150\n",
            "60000/60000 [==============================] - 15s 249us/step - loss: 0.0299 - accuracy: 0.9902\n",
            "Epoch 26/150\n",
            "60000/60000 [==============================] - 15s 242us/step - loss: 0.0311 - accuracy: 0.9898\n",
            "Epoch 27/150\n",
            "60000/60000 [==============================] - 14s 233us/step - loss: 0.0283 - accuracy: 0.9902\n",
            "Epoch 28/150\n",
            "60000/60000 [==============================] - 15s 243us/step - loss: 0.0296 - accuracy: 0.9906\n",
            "Epoch 29/150\n",
            "60000/60000 [==============================] - 14s 237us/step - loss: 0.0277 - accuracy: 0.9907\n",
            "Epoch 30/150\n",
            "60000/60000 [==============================] - 14s 241us/step - loss: 0.0275 - accuracy: 0.9907\n",
            "Epoch 31/150\n",
            "60000/60000 [==============================] - 14s 233us/step - loss: 0.0244 - accuracy: 0.9915\n",
            "Epoch 32/150\n",
            "60000/60000 [==============================] - 15s 245us/step - loss: 0.0247 - accuracy: 0.9919\n",
            "Epoch 33/150\n",
            "60000/60000 [==============================] - 15s 243us/step - loss: 0.0225 - accuracy: 0.9923\n",
            "Epoch 34/150\n",
            "60000/60000 [==============================] - 15s 255us/step - loss: 0.0240 - accuracy: 0.9923\n",
            "Epoch 35/150\n",
            "60000/60000 [==============================] - 14s 238us/step - loss: 0.0236 - accuracy: 0.9917\n",
            "Epoch 36/150\n",
            "60000/60000 [==============================] - 14s 237us/step - loss: 0.0213 - accuracy: 0.9929\n",
            "Epoch 37/150\n",
            "60000/60000 [==============================] - 14s 233us/step - loss: 0.0224 - accuracy: 0.9927\n",
            "Epoch 38/150\n",
            "60000/60000 [==============================] - 14s 234us/step - loss: 0.0224 - accuracy: 0.9929\n",
            "Epoch 39/150\n",
            "60000/60000 [==============================] - 14s 236us/step - loss: 0.0216 - accuracy: 0.9927\n",
            "Epoch 40/150\n",
            "60000/60000 [==============================] - 14s 236us/step - loss: 0.0212 - accuracy: 0.9933\n",
            "Epoch 41/150\n",
            "60000/60000 [==============================] - 14s 239us/step - loss: 0.0202 - accuracy: 0.9933\n",
            "Epoch 42/150\n",
            "60000/60000 [==============================] - 14s 236us/step - loss: 0.0202 - accuracy: 0.9936\n",
            "Epoch 43/150\n",
            "60000/60000 [==============================] - 14s 238us/step - loss: 0.0195 - accuracy: 0.9934\n",
            "Epoch 44/150\n",
            "60000/60000 [==============================] - 14s 234us/step - loss: 0.0191 - accuracy: 0.9939\n",
            "Epoch 45/150\n",
            "60000/60000 [==============================] - 15s 244us/step - loss: 0.0195 - accuracy: 0.9936\n",
            "Epoch 46/150\n",
            "60000/60000 [==============================] - 15s 246us/step - loss: 0.0172 - accuracy: 0.9941\n",
            "Epoch 47/150\n",
            "60000/60000 [==============================] - 14s 240us/step - loss: 0.0197 - accuracy: 0.9936\n",
            "Epoch 48/150\n",
            "60000/60000 [==============================] - 14s 236us/step - loss: 0.0171 - accuracy: 0.9945\n",
            "Epoch 49/150\n",
            "60000/60000 [==============================] - 14s 240us/step - loss: 0.0203 - accuracy: 0.9938\n",
            "Epoch 50/150\n",
            "60000/60000 [==============================] - 14s 234us/step - loss: 0.0159 - accuracy: 0.9947\n",
            "Epoch 51/150\n",
            "60000/60000 [==============================] - 14s 241us/step - loss: 0.0159 - accuracy: 0.9950\n",
            "Epoch 52/150\n",
            "60000/60000 [==============================] - 14s 240us/step - loss: 0.0180 - accuracy: 0.9944\n",
            "Epoch 53/150\n",
            "60000/60000 [==============================] - 15s 244us/step - loss: 0.0159 - accuracy: 0.9947\n",
            "Epoch 54/150\n",
            "60000/60000 [==============================] - 15s 248us/step - loss: 0.0158 - accuracy: 0.9951\n",
            "Epoch 55/150\n",
            "60000/60000 [==============================] - 15s 251us/step - loss: 0.0162 - accuracy: 0.9946\n",
            "Epoch 56/150\n",
            "60000/60000 [==============================] - 15s 244us/step - loss: 0.0156 - accuracy: 0.9951\n",
            "Epoch 57/150\n",
            "60000/60000 [==============================] - 14s 242us/step - loss: 0.0170 - accuracy: 0.9948\n",
            "Epoch 58/150\n",
            "60000/60000 [==============================] - 14s 231us/step - loss: 0.0157 - accuracy: 0.9949\n",
            "Epoch 59/150\n",
            "60000/60000 [==============================] - 14s 235us/step - loss: 0.0167 - accuracy: 0.9950\n",
            "Epoch 60/150\n",
            "60000/60000 [==============================] - 14s 233us/step - loss: 0.0153 - accuracy: 0.9956\n",
            "Epoch 61/150\n",
            "60000/60000 [==============================] - 14s 236us/step - loss: 0.0155 - accuracy: 0.9953\n",
            "Epoch 62/150\n",
            "60000/60000 [==============================] - 14s 238us/step - loss: 0.0156 - accuracy: 0.9950\n",
            "Epoch 63/150\n",
            "60000/60000 [==============================] - 14s 236us/step - loss: 0.0148 - accuracy: 0.9953\n",
            "Epoch 64/150\n",
            "60000/60000 [==============================] - 14s 235us/step - loss: 0.0157 - accuracy: 0.9957\n",
            "Epoch 65/150\n",
            "60000/60000 [==============================] - 14s 233us/step - loss: 0.0146 - accuracy: 0.9955\n",
            "Epoch 66/150\n",
            "60000/60000 [==============================] - 14s 232us/step - loss: 0.0147 - accuracy: 0.9956\n",
            "Epoch 67/150\n",
            "60000/60000 [==============================] - 14s 232us/step - loss: 0.0148 - accuracy: 0.9955\n",
            "Epoch 68/150\n",
            "60000/60000 [==============================] - 14s 235us/step - loss: 0.0139 - accuracy: 0.9956\n",
            "Epoch 69/150\n",
            "60000/60000 [==============================] - 14s 235us/step - loss: 0.0144 - accuracy: 0.9959\n",
            "Epoch 70/150\n",
            "60000/60000 [==============================] - 14s 231us/step - loss: 0.0157 - accuracy: 0.9951\n",
            "Epoch 71/150\n",
            "60000/60000 [==============================] - 14s 235us/step - loss: 0.0145 - accuracy: 0.9959\n",
            "Epoch 72/150\n",
            "60000/60000 [==============================] - 14s 236us/step - loss: 0.0142 - accuracy: 0.9956\n",
            "Epoch 73/150\n",
            "60000/60000 [==============================] - 14s 236us/step - loss: 0.0135 - accuracy: 0.9959\n",
            "Epoch 74/150\n",
            "60000/60000 [==============================] - 15s 244us/step - loss: 0.0156 - accuracy: 0.9953\n",
            "Epoch 75/150\n",
            "60000/60000 [==============================] - 14s 234us/step - loss: 0.0137 - accuracy: 0.9960\n",
            "Epoch 76/150\n",
            "60000/60000 [==============================] - 14s 241us/step - loss: 0.0127 - accuracy: 0.9962\n",
            "Epoch 77/150\n",
            "60000/60000 [==============================] - 15s 254us/step - loss: 0.0120 - accuracy: 0.9964\n",
            "Epoch 78/150\n",
            "60000/60000 [==============================] - 14s 237us/step - loss: 0.0146 - accuracy: 0.9961\n",
            "Epoch 79/150\n",
            "60000/60000 [==============================] - 15s 247us/step - loss: 0.0144 - accuracy: 0.9959\n",
            "Epoch 80/150\n",
            "60000/60000 [==============================] - 14s 240us/step - loss: 0.0134 - accuracy: 0.9960\n",
            "Epoch 81/150\n",
            "60000/60000 [==============================] - 14s 233us/step - loss: 0.0133 - accuracy: 0.9960\n",
            "Epoch 82/150\n",
            "60000/60000 [==============================] - 14s 235us/step - loss: 0.0143 - accuracy: 0.9963\n",
            "Epoch 83/150\n",
            "60000/60000 [==============================] - 14s 234us/step - loss: 0.0138 - accuracy: 0.9961\n",
            "Epoch 84/150\n",
            "60000/60000 [==============================] - 14s 238us/step - loss: 0.0141 - accuracy: 0.9961\n",
            "Epoch 85/150\n",
            "60000/60000 [==============================] - 15s 243us/step - loss: 0.0135 - accuracy: 0.9963\n",
            "Epoch 86/150\n",
            "60000/60000 [==============================] - 14s 238us/step - loss: 0.0125 - accuracy: 0.9963\n",
            "Epoch 87/150\n",
            "60000/60000 [==============================] - 15s 242us/step - loss: 0.0111 - accuracy: 0.9969\n",
            "Epoch 88/150\n",
            "60000/60000 [==============================] - 14s 236us/step - loss: 0.0135 - accuracy: 0.9961\n",
            "Epoch 89/150\n",
            "60000/60000 [==============================] - 14s 234us/step - loss: 0.0148 - accuracy: 0.9962\n",
            "Epoch 90/150\n",
            "60000/60000 [==============================] - 14s 238us/step - loss: 0.0129 - accuracy: 0.9964\n",
            "Epoch 91/150\n",
            "60000/60000 [==============================] - 14s 241us/step - loss: 0.0126 - accuracy: 0.9966\n",
            "Epoch 92/150\n",
            "60000/60000 [==============================] - 14s 232us/step - loss: 0.0148 - accuracy: 0.9962\n",
            "Epoch 93/150\n",
            "60000/60000 [==============================] - 15s 242us/step - loss: 0.0115 - accuracy: 0.9969\n",
            "Epoch 94/150\n",
            "60000/60000 [==============================] - 14s 238us/step - loss: 0.0136 - accuracy: 0.9959\n",
            "Epoch 95/150\n",
            "60000/60000 [==============================] - 15s 247us/step - loss: 0.0108 - accuracy: 0.9970\n",
            "Epoch 96/150\n",
            "60000/60000 [==============================] - 14s 239us/step - loss: 0.0147 - accuracy: 0.9962\n",
            "Epoch 97/150\n",
            "60000/60000 [==============================] - 14s 236us/step - loss: 0.0101 - accuracy: 0.9970\n",
            "Epoch 98/150\n",
            "60000/60000 [==============================] - 14s 239us/step - loss: 0.0119 - accuracy: 0.9967\n",
            "Epoch 99/150\n",
            "60000/60000 [==============================] - 16s 262us/step - loss: 0.0136 - accuracy: 0.9963\n",
            "Epoch 100/150\n",
            "60000/60000 [==============================] - 14s 237us/step - loss: 0.0116 - accuracy: 0.9968\n",
            "Epoch 101/150\n",
            "60000/60000 [==============================] - 14s 237us/step - loss: 0.0115 - accuracy: 0.9969\n",
            "Epoch 102/150\n",
            "60000/60000 [==============================] - 14s 234us/step - loss: 0.0117 - accuracy: 0.9971\n",
            "Epoch 103/150\n",
            "60000/60000 [==============================] - 14s 238us/step - loss: 0.0108 - accuracy: 0.9969\n",
            "Epoch 104/150\n",
            "60000/60000 [==============================] - 15s 243us/step - loss: 0.0113 - accuracy: 0.9966\n",
            "Epoch 105/150\n",
            "60000/60000 [==============================] - 14s 237us/step - loss: 0.0123 - accuracy: 0.9966\n",
            "Epoch 106/150\n",
            "60000/60000 [==============================] - 15s 244us/step - loss: 0.0128 - accuracy: 0.9966\n",
            "Epoch 107/150\n",
            "60000/60000 [==============================] - 14s 240us/step - loss: 0.0103 - accuracy: 0.9972\n",
            "Epoch 108/150\n",
            "60000/60000 [==============================] - 14s 241us/step - loss: 0.0124 - accuracy: 0.9971\n",
            "Epoch 109/150\n",
            "60000/60000 [==============================] - 15s 244us/step - loss: 0.0114 - accuracy: 0.9968\n",
            "Epoch 110/150\n",
            "60000/60000 [==============================] - 14s 233us/step - loss: 0.0109 - accuracy: 0.9970\n",
            "Epoch 111/150\n",
            "60000/60000 [==============================] - 14s 238us/step - loss: 0.0122 - accuracy: 0.9967\n",
            "Epoch 112/150\n",
            "60000/60000 [==============================] - 14s 236us/step - loss: 0.0132 - accuracy: 0.9967\n",
            "Epoch 113/150\n",
            "60000/60000 [==============================] - 14s 235us/step - loss: 0.0116 - accuracy: 0.9970\n",
            "Epoch 114/150\n",
            "60000/60000 [==============================] - 14s 235us/step - loss: 0.0114 - accuracy: 0.9971\n",
            "Epoch 115/150\n",
            "60000/60000 [==============================] - 14s 236us/step - loss: 0.0121 - accuracy: 0.9971\n",
            "Epoch 116/150\n",
            "60000/60000 [==============================] - 14s 237us/step - loss: 0.0124 - accuracy: 0.9968\n",
            "Epoch 117/150\n",
            "60000/60000 [==============================] - 14s 236us/step - loss: 0.0111 - accuracy: 0.9971\n",
            "Epoch 118/150\n",
            "60000/60000 [==============================] - 14s 236us/step - loss: 0.0132 - accuracy: 0.9964\n",
            "Epoch 119/150\n",
            "60000/60000 [==============================] - 15s 244us/step - loss: 0.0111 - accuracy: 0.9971\n",
            "Epoch 120/150\n",
            "60000/60000 [==============================] - 15s 247us/step - loss: 0.0092 - accuracy: 0.9976\n",
            "Epoch 121/150\n",
            "60000/60000 [==============================] - 15s 245us/step - loss: 0.0146 - accuracy: 0.9966\n",
            "Epoch 122/150\n",
            "60000/60000 [==============================] - 15s 243us/step - loss: 0.0127 - accuracy: 0.9967\n",
            "Epoch 123/150\n",
            "60000/60000 [==============================] - 15s 242us/step - loss: 0.0102 - accuracy: 0.9974\n",
            "Epoch 124/150\n",
            "60000/60000 [==============================] - 14s 241us/step - loss: 0.0118 - accuracy: 0.9971\n",
            "Epoch 125/150\n",
            "60000/60000 [==============================] - 15s 243us/step - loss: 0.0098 - accuracy: 0.9974\n",
            "Epoch 126/150\n",
            "60000/60000 [==============================] - 15s 243us/step - loss: 0.0130 - accuracy: 0.9967\n",
            "Epoch 127/150\n",
            "60000/60000 [==============================] - 15s 246us/step - loss: 0.0105 - accuracy: 0.9977\n",
            "Epoch 128/150\n",
            "60000/60000 [==============================] - 14s 235us/step - loss: 0.0117 - accuracy: 0.9970\n",
            "Epoch 129/150\n",
            "60000/60000 [==============================] - 14s 238us/step - loss: 0.0116 - accuracy: 0.9970\n",
            "Epoch 130/150\n",
            "60000/60000 [==============================] - 15s 243us/step - loss: 0.0105 - accuracy: 0.9976\n",
            "Epoch 131/150\n",
            "60000/60000 [==============================] - 14s 238us/step - loss: 0.0121 - accuracy: 0.9972\n",
            "Epoch 132/150\n",
            "60000/60000 [==============================] - 14s 235us/step - loss: 0.0102 - accuracy: 0.9974\n",
            "Epoch 133/150\n",
            "60000/60000 [==============================] - 14s 231us/step - loss: 0.0104 - accuracy: 0.9974\n",
            "Epoch 134/150\n",
            "60000/60000 [==============================] - 15s 242us/step - loss: 0.0123 - accuracy: 0.9970\n",
            "Epoch 135/150\n",
            "60000/60000 [==============================] - 14s 241us/step - loss: 0.0114 - accuracy: 0.9974\n",
            "Epoch 136/150\n",
            "60000/60000 [==============================] - 14s 237us/step - loss: 0.0111 - accuracy: 0.9972\n",
            "Epoch 137/150\n",
            "60000/60000 [==============================] - 14s 237us/step - loss: 0.0107 - accuracy: 0.9976\n",
            "Epoch 138/150\n",
            "60000/60000 [==============================] - 14s 238us/step - loss: 0.0132 - accuracy: 0.9969\n",
            "Epoch 139/150\n",
            "60000/60000 [==============================] - 14s 241us/step - loss: 0.0109 - accuracy: 0.9974\n",
            "Epoch 140/150\n",
            "60000/60000 [==============================] - 14s 241us/step - loss: 0.0118 - accuracy: 0.9972\n",
            "Epoch 141/150\n",
            "60000/60000 [==============================] - 18s 299us/step - loss: 0.0096 - accuracy: 0.9978\n",
            "Epoch 142/150\n",
            "60000/60000 [==============================] - 15s 257us/step - loss: 0.0116 - accuracy: 0.9973\n",
            "Epoch 143/150\n",
            "60000/60000 [==============================] - 15s 251us/step - loss: 0.0109 - accuracy: 0.9973\n",
            "Epoch 144/150\n",
            "60000/60000 [==============================] - 15s 243us/step - loss: 0.0112 - accuracy: 0.9972\n",
            "Epoch 145/150\n",
            "60000/60000 [==============================] - 14s 238us/step - loss: 0.0103 - accuracy: 0.9975\n",
            "Epoch 146/150\n",
            "60000/60000 [==============================] - 15s 249us/step - loss: 0.0120 - accuracy: 0.9972\n",
            "Epoch 147/150\n",
            "60000/60000 [==============================] - 15s 243us/step - loss: 0.0114 - accuracy: 0.9974\n",
            "Epoch 148/150\n",
            "60000/60000 [==============================] - 15s 245us/step - loss: 0.0106 - accuracy: 0.9977\n",
            "Epoch 149/150\n",
            "60000/60000 [==============================] - 15s 246us/step - loss: 0.0114 - accuracy: 0.9972\n",
            "Epoch 150/150\n",
            "60000/60000 [==============================] - 15s 242us/step - loss: 0.0121 - accuracy: 0.9975\n"
          ],
          "name": "stdout"
        },
        {
          "output_type": "execute_result",
          "data": {
            "text/plain": [
              "<keras.callbacks.callbacks.History at 0x7f760025b358>"
            ]
          },
          "metadata": {
            "tags": []
          },
          "execution_count": 40
        }
      ]
    },
    {
      "cell_type": "code",
      "metadata": {
        "id": "VNO5ta5yK7TZ",
        "colab_type": "code",
        "colab": {
          "base_uri": "https://localhost:8080/",
          "height": 50
        },
        "outputId": "42503124-09f3-4ecf-b910-89e77d6f8023"
      },
      "source": [
        "# evaluate the keras model\n",
        "_, accuracy = model.evaluate(x_test, y_test)\n",
        "print('Accuracy: %.2f' % (accuracy*100))"
      ],
      "execution_count": 42,
      "outputs": [
        {
          "output_type": "stream",
          "text": [
            "10000/10000 [==============================] - 0s 41us/step\n",
            "Accuracy: 96.53\n"
          ],
          "name": "stdout"
        }
      ]
    },
    {
      "cell_type": "code",
      "metadata": {
        "id": "EAC53mu8hiao",
        "colab_type": "code",
        "colab": {}
      },
      "source": [
        ""
      ],
      "execution_count": null,
      "outputs": []
    }
  ]
}