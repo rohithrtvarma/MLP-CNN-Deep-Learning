{
  "nbformat": 4,
  "nbformat_minor": 0,
  "metadata": {
    "colab": {
      "name": "cifar10.ipynb",
      "provenance": [],
      "authorship_tag": "ABX9TyNKMUldjm8NRTAQPWdv8Wuk",
      "include_colab_link": true
    },
    "kernelspec": {
      "name": "python3",
      "display_name": "Python 3"
    },
    "accelerator": "GPU"
  },
  "cells": [
    {
      "cell_type": "markdown",
      "metadata": {
        "id": "view-in-github",
        "colab_type": "text"
      },
      "source": [
        "<a href=\"https://colab.research.google.com/github/rohithrtvarma/Deep-Learning-/blob/master/cifar10.ipynb\" target=\"_parent\"><img src=\"https://colab.research.google.com/assets/colab-badge.svg\" alt=\"Open In Colab\"/></a>"
      ]
    },
    {
      "cell_type": "markdown",
      "metadata": {
        "id": "WrCavuav0GxS",
        "colab_type": "text"
      },
      "source": [
        "The CIFAR-10 and CIFAR-100 are labeled subsets of the 80 million tiny images dataset. They were collected by Alex Krizhevsky, Vinod Nair, and Geoffrey Hinton.\n",
        "\n",
        "The CIFAR-10 dataset consists of 60000 32x32 colour images in 10 classes, with 6000 images per class. There are 50000 training images and 10000 test images.\n",
        "\n",
        "The dataset is divided into five training batches and one test batch, each with 10000 images. The test batch contains exactly 1000 randomly-selected images from each class. The training batches contain the remaining images in random order, but some training batches may contain more images from one class than another. Between them, the training batches contain exactly 5000 images from each class.\n"
      ]
    },
    {
      "cell_type": "code",
      "metadata": {
        "id": "gK1FTOOx05dx",
        "colab_type": "code",
        "colab": {}
      },
      "source": [
        "import tensorflow as tf"
      ],
      "execution_count": 1,
      "outputs": []
    },
    {
      "cell_type": "code",
      "metadata": {
        "id": "K4Le50lS0Y16",
        "colab_type": "code",
        "colab": {
          "base_uri": "https://localhost:8080/",
          "height": 50
        },
        "outputId": "d2181c84-34c1-4c1c-e5ac-6acb84b2aff2"
      },
      "source": [
        "(x_train, y_train), (x_test, y_test)=tf.keras.datasets.cifar10.load_data()"
      ],
      "execution_count": 2,
      "outputs": [
        {
          "output_type": "stream",
          "text": [
            "Downloading data from https://www.cs.toronto.edu/~kriz/cifar-10-python.tar.gz\n",
            "170500096/170498071 [==============================] - 2s 0us/step\n"
          ],
          "name": "stdout"
        }
      ]
    },
    {
      "cell_type": "code",
      "metadata": {
        "id": "Klow9k6NEeNF",
        "colab_type": "code",
        "colab": {
          "base_uri": "https://localhost:8080/",
          "height": 35
        },
        "outputId": "948a9666-cc01-4348-e06e-4df94515e862"
      },
      "source": [
        "tf.__version__"
      ],
      "execution_count": 3,
      "outputs": [
        {
          "output_type": "execute_result",
          "data": {
            "application/vnd.google.colaboratory.intrinsic+json": {
              "type": "string"
            },
            "text/plain": [
              "'2.2.0'"
            ]
          },
          "metadata": {
            "tags": []
          },
          "execution_count": 3
        }
      ]
    },
    {
      "cell_type": "code",
      "metadata": {
        "id": "CfZebvedBXJi",
        "colab_type": "code",
        "colab": {
          "base_uri": "https://localhost:8080/",
          "height": 34
        },
        "outputId": "691b884e-75d2-4708-b3e4-3ffd1c47dbde"
      },
      "source": [
        "import keras"
      ],
      "execution_count": 4,
      "outputs": [
        {
          "output_type": "stream",
          "text": [
            "Using TensorFlow backend.\n"
          ],
          "name": "stderr"
        }
      ]
    },
    {
      "cell_type": "code",
      "metadata": {
        "id": "fcMcmMdlGrrP",
        "colab_type": "code",
        "colab": {
          "base_uri": "https://localhost:8080/",
          "height": 35
        },
        "outputId": "ab154586-c42e-49de-fbaa-e2cffe0820bf"
      },
      "source": [
        "keras.__version__"
      ],
      "execution_count": 5,
      "outputs": [
        {
          "output_type": "execute_result",
          "data": {
            "application/vnd.google.colaboratory.intrinsic+json": {
              "type": "string"
            },
            "text/plain": [
              "'2.3.1'"
            ]
          },
          "metadata": {
            "tags": []
          },
          "execution_count": 5
        }
      ]
    },
    {
      "cell_type": "code",
      "metadata": {
        "id": "YZ0hIpxJHGwa",
        "colab_type": "code",
        "colab": {
          "base_uri": "https://localhost:8080/",
          "height": 34
        },
        "outputId": "a8101bf9-8f45-4080-b4f0-b64a4bba47da"
      },
      "source": [
        "x_train.shape,x_test.shape,y_train.shape,y_test.shape"
      ],
      "execution_count": 6,
      "outputs": [
        {
          "output_type": "execute_result",
          "data": {
            "text/plain": [
              "((50000, 32, 32, 3), (10000, 32, 32, 3), (50000, 1), (10000, 1))"
            ]
          },
          "metadata": {
            "tags": []
          },
          "execution_count": 6
        }
      ]
    },
    {
      "cell_type": "code",
      "metadata": {
        "id": "RFWqnz6WHfYj",
        "colab_type": "code",
        "colab": {
          "base_uri": "https://localhost:8080/",
          "height": 1000
        },
        "outputId": "9313db3d-849a-430e-ceaf-a2fcf4a957d2"
      },
      "source": [
        "x_train"
      ],
      "execution_count": 7,
      "outputs": [
        {
          "output_type": "execute_result",
          "data": {
            "text/plain": [
              "array([[[[ 59,  62,  63],\n",
              "         [ 43,  46,  45],\n",
              "         [ 50,  48,  43],\n",
              "         ...,\n",
              "         [158, 132, 108],\n",
              "         [152, 125, 102],\n",
              "         [148, 124, 103]],\n",
              "\n",
              "        [[ 16,  20,  20],\n",
              "         [  0,   0,   0],\n",
              "         [ 18,   8,   0],\n",
              "         ...,\n",
              "         [123,  88,  55],\n",
              "         [119,  83,  50],\n",
              "         [122,  87,  57]],\n",
              "\n",
              "        [[ 25,  24,  21],\n",
              "         [ 16,   7,   0],\n",
              "         [ 49,  27,   8],\n",
              "         ...,\n",
              "         [118,  84,  50],\n",
              "         [120,  84,  50],\n",
              "         [109,  73,  42]],\n",
              "\n",
              "        ...,\n",
              "\n",
              "        [[208, 170,  96],\n",
              "         [201, 153,  34],\n",
              "         [198, 161,  26],\n",
              "         ...,\n",
              "         [160, 133,  70],\n",
              "         [ 56,  31,   7],\n",
              "         [ 53,  34,  20]],\n",
              "\n",
              "        [[180, 139,  96],\n",
              "         [173, 123,  42],\n",
              "         [186, 144,  30],\n",
              "         ...,\n",
              "         [184, 148,  94],\n",
              "         [ 97,  62,  34],\n",
              "         [ 83,  53,  34]],\n",
              "\n",
              "        [[177, 144, 116],\n",
              "         [168, 129,  94],\n",
              "         [179, 142,  87],\n",
              "         ...,\n",
              "         [216, 184, 140],\n",
              "         [151, 118,  84],\n",
              "         [123,  92,  72]]],\n",
              "\n",
              "\n",
              "       [[[154, 177, 187],\n",
              "         [126, 137, 136],\n",
              "         [105, 104,  95],\n",
              "         ...,\n",
              "         [ 91,  95,  71],\n",
              "         [ 87,  90,  71],\n",
              "         [ 79,  81,  70]],\n",
              "\n",
              "        [[140, 160, 169],\n",
              "         [145, 153, 154],\n",
              "         [125, 125, 118],\n",
              "         ...,\n",
              "         [ 96,  99,  78],\n",
              "         [ 77,  80,  62],\n",
              "         [ 71,  73,  61]],\n",
              "\n",
              "        [[140, 155, 164],\n",
              "         [139, 146, 149],\n",
              "         [115, 115, 112],\n",
              "         ...,\n",
              "         [ 79,  82,  64],\n",
              "         [ 68,  70,  55],\n",
              "         [ 67,  69,  55]],\n",
              "\n",
              "        ...,\n",
              "\n",
              "        [[175, 167, 166],\n",
              "         [156, 154, 160],\n",
              "         [154, 160, 170],\n",
              "         ...,\n",
              "         [ 42,  34,  36],\n",
              "         [ 61,  53,  57],\n",
              "         [ 93,  83,  91]],\n",
              "\n",
              "        [[165, 154, 128],\n",
              "         [156, 152, 130],\n",
              "         [159, 161, 142],\n",
              "         ...,\n",
              "         [103,  93,  96],\n",
              "         [123, 114, 120],\n",
              "         [131, 121, 131]],\n",
              "\n",
              "        [[163, 148, 120],\n",
              "         [158, 148, 122],\n",
              "         [163, 156, 133],\n",
              "         ...,\n",
              "         [143, 133, 139],\n",
              "         [143, 134, 142],\n",
              "         [143, 133, 144]]],\n",
              "\n",
              "\n",
              "       [[[255, 255, 255],\n",
              "         [253, 253, 253],\n",
              "         [253, 253, 253],\n",
              "         ...,\n",
              "         [253, 253, 253],\n",
              "         [253, 253, 253],\n",
              "         [253, 253, 253]],\n",
              "\n",
              "        [[255, 255, 255],\n",
              "         [255, 255, 255],\n",
              "         [255, 255, 255],\n",
              "         ...,\n",
              "         [255, 255, 255],\n",
              "         [255, 255, 255],\n",
              "         [255, 255, 255]],\n",
              "\n",
              "        [[255, 255, 255],\n",
              "         [254, 254, 254],\n",
              "         [254, 254, 254],\n",
              "         ...,\n",
              "         [254, 254, 254],\n",
              "         [254, 254, 254],\n",
              "         [254, 254, 254]],\n",
              "\n",
              "        ...,\n",
              "\n",
              "        [[113, 120, 112],\n",
              "         [111, 118, 111],\n",
              "         [105, 112, 106],\n",
              "         ...,\n",
              "         [ 72,  81,  80],\n",
              "         [ 72,  80,  79],\n",
              "         [ 72,  80,  79]],\n",
              "\n",
              "        [[111, 118, 110],\n",
              "         [104, 111, 104],\n",
              "         [ 99, 106,  98],\n",
              "         ...,\n",
              "         [ 68,  75,  73],\n",
              "         [ 70,  76,  75],\n",
              "         [ 78,  84,  82]],\n",
              "\n",
              "        [[106, 113, 105],\n",
              "         [ 99, 106,  98],\n",
              "         [ 95, 102,  94],\n",
              "         ...,\n",
              "         [ 78,  85,  83],\n",
              "         [ 79,  85,  83],\n",
              "         [ 80,  86,  84]]],\n",
              "\n",
              "\n",
              "       ...,\n",
              "\n",
              "\n",
              "       [[[ 35, 178, 235],\n",
              "         [ 40, 176, 239],\n",
              "         [ 42, 176, 241],\n",
              "         ...,\n",
              "         [ 99, 177, 219],\n",
              "         [ 79, 147, 197],\n",
              "         [ 89, 148, 189]],\n",
              "\n",
              "        [[ 57, 182, 234],\n",
              "         [ 44, 184, 250],\n",
              "         [ 50, 183, 240],\n",
              "         ...,\n",
              "         [156, 182, 200],\n",
              "         [141, 177, 206],\n",
              "         [116, 149, 175]],\n",
              "\n",
              "        [[ 98, 197, 237],\n",
              "         [ 64, 189, 252],\n",
              "         [ 69, 192, 245],\n",
              "         ...,\n",
              "         [188, 195, 206],\n",
              "         [119, 135, 147],\n",
              "         [ 61,  79,  90]],\n",
              "\n",
              "        ...,\n",
              "\n",
              "        [[ 73,  79,  77],\n",
              "         [ 53,  63,  68],\n",
              "         [ 54,  68,  80],\n",
              "         ...,\n",
              "         [ 17,  40,  64],\n",
              "         [ 21,  36,  51],\n",
              "         [ 33,  48,  49]],\n",
              "\n",
              "        [[ 61,  68,  75],\n",
              "         [ 55,  70,  86],\n",
              "         [ 57,  79, 103],\n",
              "         ...,\n",
              "         [ 24,  48,  72],\n",
              "         [ 17,  35,  53],\n",
              "         [  7,  23,  32]],\n",
              "\n",
              "        [[ 44,  56,  73],\n",
              "         [ 46,  66,  88],\n",
              "         [ 49,  77, 105],\n",
              "         ...,\n",
              "         [ 27,  52,  77],\n",
              "         [ 21,  43,  66],\n",
              "         [ 12,  31,  50]]],\n",
              "\n",
              "\n",
              "       [[[189, 211, 240],\n",
              "         [186, 208, 236],\n",
              "         [185, 207, 235],\n",
              "         ...,\n",
              "         [175, 195, 224],\n",
              "         [172, 194, 222],\n",
              "         [169, 194, 220]],\n",
              "\n",
              "        [[194, 210, 239],\n",
              "         [191, 207, 236],\n",
              "         [190, 206, 235],\n",
              "         ...,\n",
              "         [173, 192, 220],\n",
              "         [171, 191, 218],\n",
              "         [167, 190, 216]],\n",
              "\n",
              "        [[208, 219, 244],\n",
              "         [205, 216, 240],\n",
              "         [204, 215, 239],\n",
              "         ...,\n",
              "         [175, 191, 217],\n",
              "         [172, 190, 216],\n",
              "         [169, 191, 215]],\n",
              "\n",
              "        ...,\n",
              "\n",
              "        [[207, 199, 181],\n",
              "         [203, 195, 175],\n",
              "         [203, 196, 173],\n",
              "         ...,\n",
              "         [135, 132, 127],\n",
              "         [162, 158, 150],\n",
              "         [168, 163, 151]],\n",
              "\n",
              "        [[198, 190, 170],\n",
              "         [189, 181, 159],\n",
              "         [180, 172, 147],\n",
              "         ...,\n",
              "         [178, 171, 160],\n",
              "         [175, 169, 156],\n",
              "         [175, 169, 154]],\n",
              "\n",
              "        [[198, 189, 173],\n",
              "         [189, 181, 162],\n",
              "         [178, 170, 149],\n",
              "         ...,\n",
              "         [195, 184, 169],\n",
              "         [196, 189, 171],\n",
              "         [195, 190, 171]]],\n",
              "\n",
              "\n",
              "       [[[229, 229, 239],\n",
              "         [236, 237, 247],\n",
              "         [234, 236, 247],\n",
              "         ...,\n",
              "         [217, 219, 233],\n",
              "         [221, 223, 234],\n",
              "         [222, 223, 233]],\n",
              "\n",
              "        [[222, 221, 229],\n",
              "         [239, 239, 249],\n",
              "         [233, 234, 246],\n",
              "         ...,\n",
              "         [223, 223, 236],\n",
              "         [227, 228, 238],\n",
              "         [210, 211, 220]],\n",
              "\n",
              "        [[213, 206, 211],\n",
              "         [234, 232, 239],\n",
              "         [231, 233, 244],\n",
              "         ...,\n",
              "         [220, 220, 232],\n",
              "         [220, 219, 232],\n",
              "         [202, 203, 215]],\n",
              "\n",
              "        ...,\n",
              "\n",
              "        [[150, 143, 135],\n",
              "         [140, 135, 127],\n",
              "         [132, 127, 120],\n",
              "         ...,\n",
              "         [224, 222, 218],\n",
              "         [230, 228, 225],\n",
              "         [241, 241, 238]],\n",
              "\n",
              "        [[137, 132, 126],\n",
              "         [130, 127, 120],\n",
              "         [125, 121, 115],\n",
              "         ...,\n",
              "         [181, 180, 178],\n",
              "         [202, 201, 198],\n",
              "         [212, 211, 207]],\n",
              "\n",
              "        [[122, 119, 114],\n",
              "         [118, 116, 110],\n",
              "         [120, 116, 111],\n",
              "         ...,\n",
              "         [179, 177, 173],\n",
              "         [164, 164, 162],\n",
              "         [163, 163, 161]]]], dtype=uint8)"
            ]
          },
          "metadata": {
            "tags": []
          },
          "execution_count": 7
        }
      ]
    },
    {
      "cell_type": "code",
      "metadata": {
        "id": "1sL1_W7gRvBv",
        "colab_type": "code",
        "colab": {}
      },
      "source": [
        "import matplotlib.pyplot as plt"
      ],
      "execution_count": 8,
      "outputs": []
    },
    {
      "cell_type": "code",
      "metadata": {
        "id": "r3g1lcgPMkZ2",
        "colab_type": "code",
        "colab": {
          "base_uri": "https://localhost:8080/",
          "height": 283
        },
        "outputId": "a2a4476e-9caa-415c-fdd2-e1a51e3158f0"
      },
      "source": [
        "plt.imshow(x_train[15])"
      ],
      "execution_count": 9,
      "outputs": [
        {
          "output_type": "execute_result",
          "data": {
            "text/plain": [
              "<matplotlib.image.AxesImage at 0x7f3adbeff358>"
            ]
          },
          "metadata": {
            "tags": []
          },
          "execution_count": 9
        },
        {
          "output_type": "display_data",
          "data": {
            "image/png": "[encoded data removed]",
            "text/plain": [
              "<Figure size 432x288 with 1 Axes>"
            ]
          },
          "metadata": {
            "tags": [],
            "needs_background": "light"
          }
        }
      ]
    },
    {
      "cell_type": "code",
      "metadata": {
        "id": "8CXt6TaiYZGt",
        "colab_type": "code",
        "colab": {}
      },
      "source": [
        "x_train=x_train.astype('float32')"
      ],
      "execution_count": 10,
      "outputs": []
    },
    {
      "cell_type": "code",
      "metadata": {
        "id": "vXceBnocYsxd",
        "colab_type": "code",
        "colab": {}
      },
      "source": [
        "x_test=x_test.astype('float32')"
      ],
      "execution_count": 11,
      "outputs": []
    },
    {
      "cell_type": "code",
      "metadata": {
        "id": "RCR1Y9I7Yz8I",
        "colab_type": "code",
        "colab": {}
      },
      "source": [
        "x_train=x_train/255.0\n",
        "x_test=x_test/255.0"
      ],
      "execution_count": 12,
      "outputs": []
    },
    {
      "cell_type": "code",
      "metadata": {
        "id": "LS1c2_l0Y9Od",
        "colab_type": "code",
        "colab": {}
      },
      "source": [
        "from keras.utils import to_categorical\n",
        "y_cat_train=to_categorical(y_train)\n",
        "y_cat_test=to_categorical(y_test)"
      ],
      "execution_count": 13,
      "outputs": []
    },
    {
      "cell_type": "code",
      "metadata": {
        "id": "xd54nwt4goXg",
        "colab_type": "code",
        "colab": {
          "base_uri": "https://localhost:8080/",
          "height": 134
        },
        "outputId": "c8facd34-63b5-4fe6-e5cf-dd33e88fe79a"
      },
      "source": [
        "y_cat_train"
      ],
      "execution_count": 14,
      "outputs": [
        {
          "output_type": "execute_result",
          "data": {
            "text/plain": [
              "array([[0., 0., 0., ..., 0., 0., 0.],\n",
              "       [0., 0., 0., ..., 0., 0., 1.],\n",
              "       [0., 0., 0., ..., 0., 0., 1.],\n",
              "       ...,\n",
              "       [0., 0., 0., ..., 0., 0., 1.],\n",
              "       [0., 1., 0., ..., 0., 0., 0.],\n",
              "       [0., 1., 0., ..., 0., 0., 0.]], dtype=float32)"
            ]
          },
          "metadata": {
            "tags": []
          },
          "execution_count": 14
        }
      ]
    },
    {
      "cell_type": "code",
      "metadata": {
        "id": "TEubKpJigrWN",
        "colab_type": "code",
        "colab": {
          "base_uri": "https://localhost:8080/",
          "height": 34
        },
        "outputId": "c149425d-a589-4c30-d71e-e84427d13412"
      },
      "source": [
        "x_train.shape"
      ],
      "execution_count": 15,
      "outputs": [
        {
          "output_type": "execute_result",
          "data": {
            "text/plain": [
              "(50000, 32, 32, 3)"
            ]
          },
          "metadata": {
            "tags": []
          },
          "execution_count": 15
        }
      ]
    },
    {
      "cell_type": "code",
      "metadata": {
        "id": "YOPRekwJjOes",
        "colab_type": "code",
        "colab": {
          "base_uri": "https://localhost:8080/",
          "height": 34
        },
        "outputId": "b11b6ba1-a80a-4f63-cbab-2a212989f83c"
      },
      "source": [
        "# show preferred channel order\n",
        "from keras import backend\n",
        "print(backend.image_data_format())"
      ],
      "execution_count": 16,
      "outputs": [
        {
          "output_type": "stream",
          "text": [
            "channels_last\n"
          ],
          "name": "stdout"
        }
      ]
    },
    {
      "cell_type": "markdown",
      "metadata": {
        "id": "7M7a_IlarIK4",
        "colab_type": "text"
      },
      "source": [
        "Building the model"
      ]
    },
    {
      "cell_type": "code",
      "metadata": {
        "id": "ERPy_no3n9Kg",
        "colab_type": "code",
        "colab": {}
      },
      "source": [
        "from keras.models import Sequential\n",
        "from keras.layers import Conv2D, MaxPooling2D, Flatten, Dense, Dropout, Activation"
      ],
      "execution_count": 17,
      "outputs": []
    },
    {
      "cell_type": "code",
      "metadata": {
        "id": "nPMeLbgCrODb",
        "colab_type": "code",
        "colab": {}
      },
      "source": [
        "model=keras.Sequential()\n",
        "model.add(Conv2D(filters=16,kernel_size=(3,3),activation='relu',input_shape=(32,32,3)))\n",
        "model.add(MaxPooling2D(2,2))\n",
        "model.add(Flatten())\n",
        "\n",
        "model.add(Dense(128,activation='relu'))\n",
        "model.add(Dense(10,activation='softmax'))\n",
        "\n",
        "model.compile(loss='categorical_crossentropy',\n",
        "              optimizer='rmsprop',\n",
        "              metrics=['accuracy'])"
      ],
      "execution_count": 18,
      "outputs": []
    },
    {
      "cell_type": "code",
      "metadata": {
        "id": "BdENWYVP4m9J",
        "colab_type": "code",
        "colab": {
          "base_uri": "https://localhost:8080/",
          "height": 319
        },
        "outputId": "b5688b97-e007-47c5-af89-081f56ca3db1"
      },
      "source": [
        "model.summary()"
      ],
      "execution_count": 19,
      "outputs": [
        {
          "output_type": "stream",
          "text": [
            "Model: \"sequential_1\"\n",
            "_________________________________________________________________\n",
            "Layer (type)                 Output Shape              Param #   \n",
            "=================================================================\n",
            "conv2d_1 (Conv2D)            (None, 30, 30, 16)        448       \n",
            "_________________________________________________________________\n",
            "max_pooling2d_1 (MaxPooling2 (None, 15, 15, 16)        0         \n",
            "_________________________________________________________________\n",
            "flatten_1 (Flatten)          (None, 3600)              0         \n",
            "_________________________________________________________________\n",
            "dense_1 (Dense)              (None, 128)               460928    \n",
            "_________________________________________________________________\n",
            "dense_2 (Dense)              (None, 10)                1290      \n",
            "=================================================================\n",
            "Total params: 462,666\n",
            "Trainable params: 462,666\n",
            "Non-trainable params: 0\n",
            "_________________________________________________________________\n"
          ],
          "name": "stdout"
        }
      ]
    },
    {
      "cell_type": "code",
      "metadata": {
        "id": "y8iVy1V91BKq",
        "colab_type": "code",
        "colab": {
          "base_uri": "https://localhost:8080/",
          "height": 1000
        },
        "outputId": "1647157a-7aba-40f9-e32d-b6c721b02206"
      },
      "source": [
        "\n",
        "model.fit(x_train,y_cat_train,epochs=100)"
      ],
      "execution_count": 20,
      "outputs": [
        {
          "output_type": "stream",
          "text": [
            "Epoch 1/100\n",
            "50000/50000 [==============================] - 17s 340us/step - loss: 1.5005 - accuracy: 0.4668\n",
            "Epoch 2/100\n",
            "50000/50000 [==============================] - 11s 223us/step - loss: 1.2000 - accuracy: 0.5789\n",
            "Epoch 3/100\n",
            "50000/50000 [==============================] - 11s 221us/step - loss: 1.0801 - accuracy: 0.6250\n",
            "Epoch 4/100\n",
            "50000/50000 [==============================] - 12s 233us/step - loss: 0.9930 - accuracy: 0.6546\n",
            "Epoch 5/100\n",
            "50000/50000 [==============================] - 11s 226us/step - loss: 0.9192 - accuracy: 0.6817\n",
            "Epoch 6/100\n",
            "50000/50000 [==============================] - 10s 209us/step - loss: 0.8491 - accuracy: 0.7054\n",
            "Epoch 7/100\n",
            "50000/50000 [==============================] - 12s 235us/step - loss: 0.7922 - accuracy: 0.7264\n",
            "Epoch 8/100\n",
            "50000/50000 [==============================] - 10s 192us/step - loss: 0.7359 - accuracy: 0.7429\n",
            "Epoch 9/100\n",
            "50000/50000 [==============================] - 9s 187us/step - loss: 0.6834 - accuracy: 0.7665\n",
            "Epoch 10/100\n",
            "50000/50000 [==============================] - 9s 186us/step - loss: 0.6334 - accuracy: 0.7837\n",
            "Epoch 11/100\n",
            "50000/50000 [==============================] - 9s 186us/step - loss: 0.5872 - accuracy: 0.7967\n",
            "Epoch 12/100\n",
            "50000/50000 [==============================] - 9s 187us/step - loss: 0.5383 - accuracy: 0.8154\n",
            "Epoch 13/100\n",
            "50000/50000 [==============================] - 10s 205us/step - loss: 0.4954 - accuracy: 0.8298\n",
            "Epoch 14/100\n",
            "50000/50000 [==============================] - 10s 210us/step - loss: 0.4525 - accuracy: 0.8453\n",
            "Epoch 15/100\n",
            "50000/50000 [==============================] - 10s 204us/step - loss: 0.4139 - accuracy: 0.8591\n",
            "Epoch 16/100\n",
            "50000/50000 [==============================] - 9s 187us/step - loss: 0.3763 - accuracy: 0.8718\n",
            "Epoch 17/100\n",
            "50000/50000 [==============================] - 9s 186us/step - loss: 0.3375 - accuracy: 0.8854\n",
            "Epoch 18/100\n",
            "50000/50000 [==============================] - 9s 187us/step - loss: 0.3093 - accuracy: 0.8959\n",
            "Epoch 19/100\n",
            "50000/50000 [==============================] - 9s 185us/step - loss: 0.2773 - accuracy: 0.9062\n",
            "Epoch 20/100\n",
            "50000/50000 [==============================] - 9s 186us/step - loss: 0.2484 - accuracy: 0.9165\n",
            "Epoch 21/100\n",
            "50000/50000 [==============================] - 9s 186us/step - loss: 0.2204 - accuracy: 0.9269\n",
            "Epoch 22/100\n",
            "50000/50000 [==============================] - 9s 186us/step - loss: 0.1999 - accuracy: 0.9325\n",
            "Epoch 23/100\n",
            "50000/50000 [==============================] - 9s 189us/step - loss: 0.1808 - accuracy: 0.9400\n",
            "Epoch 24/100\n",
            "50000/50000 [==============================] - 10s 192us/step - loss: 0.1643 - accuracy: 0.9451\n",
            "Epoch 25/100\n",
            "50000/50000 [==============================] - 9s 182us/step - loss: 0.1445 - accuracy: 0.9532\n",
            "Epoch 26/100\n",
            "50000/50000 [==============================] - 9s 185us/step - loss: 0.1333 - accuracy: 0.9552\n",
            "Epoch 27/100\n",
            "50000/50000 [==============================] - 9s 184us/step - loss: 0.1205 - accuracy: 0.9602\n",
            "Epoch 28/100\n",
            "50000/50000 [==============================] - 9s 185us/step - loss: 0.1132 - accuracy: 0.9633\n",
            "Epoch 29/100\n",
            "50000/50000 [==============================] - 9s 186us/step - loss: 0.1047 - accuracy: 0.9655\n",
            "Epoch 30/100\n",
            "50000/50000 [==============================] - 9s 185us/step - loss: 0.0943 - accuracy: 0.9689\n",
            "Epoch 31/100\n",
            "50000/50000 [==============================] - 9s 185us/step - loss: 0.0877 - accuracy: 0.9716\n",
            "Epoch 32/100\n",
            "50000/50000 [==============================] - 9s 186us/step - loss: 0.0821 - accuracy: 0.9724\n",
            "Epoch 33/100\n",
            "50000/50000 [==============================] - 9s 185us/step - loss: 0.0779 - accuracy: 0.9744\n",
            "Epoch 34/100\n",
            "50000/50000 [==============================] - 9s 188us/step - loss: 0.0767 - accuracy: 0.9760\n",
            "Epoch 35/100\n",
            "50000/50000 [==============================] - 10s 200us/step - loss: 0.0712 - accuracy: 0.9769\n",
            "Epoch 36/100\n",
            "50000/50000 [==============================] - 11s 211us/step - loss: 0.0678 - accuracy: 0.9782\n",
            "Epoch 37/100\n",
            "50000/50000 [==============================] - 9s 185us/step - loss: 0.0652 - accuracy: 0.9793\n",
            "Epoch 38/100\n",
            "50000/50000 [==============================] - 9s 185us/step - loss: 0.0634 - accuracy: 0.9795\n",
            "Epoch 39/100\n",
            "50000/50000 [==============================] - 10s 196us/step - loss: 0.0600 - accuracy: 0.9800\n",
            "Epoch 40/100\n",
            "50000/50000 [==============================] - 9s 185us/step - loss: 0.0590 - accuracy: 0.9812\n",
            "Epoch 41/100\n",
            "50000/50000 [==============================] - 9s 185us/step - loss: 0.0584 - accuracy: 0.9814\n",
            "Epoch 42/100\n",
            "50000/50000 [==============================] - 9s 185us/step - loss: 0.0506 - accuracy: 0.9833\n",
            "Epoch 43/100\n",
            "50000/50000 [==============================] - 9s 186us/step - loss: 0.0536 - accuracy: 0.9832\n",
            "Epoch 44/100\n",
            "50000/50000 [==============================] - 9s 183us/step - loss: 0.0517 - accuracy: 0.9836\n",
            "Epoch 45/100\n",
            "50000/50000 [==============================] - 9s 184us/step - loss: 0.0505 - accuracy: 0.9841\n",
            "Epoch 46/100\n",
            "50000/50000 [==============================] - 10s 206us/step - loss: 0.0503 - accuracy: 0.9841\n",
            "Epoch 47/100\n",
            "50000/50000 [==============================] - 10s 192us/step - loss: 0.0506 - accuracy: 0.9843\n",
            "Epoch 48/100\n",
            "50000/50000 [==============================] - 10s 194us/step - loss: 0.0480 - accuracy: 0.9847\n",
            "Epoch 49/100\n",
            "50000/50000 [==============================] - 9s 186us/step - loss: 0.0480 - accuracy: 0.9850\n",
            "Epoch 50/100\n",
            "50000/50000 [==============================] - 9s 186us/step - loss: 0.0470 - accuracy: 0.9849\n",
            "Epoch 51/100\n",
            "50000/50000 [==============================] - 9s 185us/step - loss: 0.0455 - accuracy: 0.9858\n",
            "Epoch 52/100\n",
            "50000/50000 [==============================] - 9s 184us/step - loss: 0.0434 - accuracy: 0.9867\n",
            "Epoch 53/100\n",
            "50000/50000 [==============================] - 9s 185us/step - loss: 0.0438 - accuracy: 0.9860\n",
            "Epoch 54/100\n",
            "50000/50000 [==============================] - 9s 186us/step - loss: 0.0449 - accuracy: 0.9859\n",
            "Epoch 55/100\n",
            "50000/50000 [==============================] - 9s 185us/step - loss: 0.0486 - accuracy: 0.9859\n",
            "Epoch 56/100\n",
            "50000/50000 [==============================] - 9s 185us/step - loss: 0.0454 - accuracy: 0.9864\n",
            "Epoch 57/100\n",
            "50000/50000 [==============================] - 9s 185us/step - loss: 0.0437 - accuracy: 0.9876\n",
            "Epoch 58/100\n",
            "50000/50000 [==============================] - 9s 185us/step - loss: 0.0410 - accuracy: 0.9878\n",
            "Epoch 59/100\n",
            "50000/50000 [==============================] - 9s 188us/step - loss: 0.0432 - accuracy: 0.9873\n",
            "Epoch 60/100\n",
            "50000/50000 [==============================] - 11s 217us/step - loss: 0.0424 - accuracy: 0.9875\n",
            "Epoch 61/100\n",
            "50000/50000 [==============================] - 10s 192us/step - loss: 0.0416 - accuracy: 0.9878\n",
            "Epoch 62/100\n",
            "50000/50000 [==============================] - 9s 185us/step - loss: 0.0429 - accuracy: 0.9877\n",
            "Epoch 63/100\n",
            "50000/50000 [==============================] - 9s 184us/step - loss: 0.0385 - accuracy: 0.9881\n",
            "Epoch 64/100\n",
            "50000/50000 [==============================] - 9s 184us/step - loss: 0.0419 - accuracy: 0.9879\n",
            "Epoch 65/100\n",
            "50000/50000 [==============================] - 9s 185us/step - loss: 0.0397 - accuracy: 0.9885\n",
            "Epoch 66/100\n",
            "50000/50000 [==============================] - 9s 185us/step - loss: 0.0390 - accuracy: 0.9878\n",
            "Epoch 67/100\n",
            "50000/50000 [==============================] - 9s 185us/step - loss: 0.0405 - accuracy: 0.9879\n",
            "Epoch 68/100\n",
            "50000/50000 [==============================] - 9s 186us/step - loss: 0.0420 - accuracy: 0.9877\n",
            "Epoch 69/100\n",
            "50000/50000 [==============================] - 9s 186us/step - loss: 0.0386 - accuracy: 0.9888\n",
            "Epoch 70/100\n",
            "50000/50000 [==============================] - 9s 186us/step - loss: 0.0432 - accuracy: 0.9882\n",
            "Epoch 71/100\n",
            "50000/50000 [==============================] - 10s 194us/step - loss: 0.0387 - accuracy: 0.9887\n",
            "Epoch 72/100\n",
            "50000/50000 [==============================] - 10s 200us/step - loss: 0.0383 - accuracy: 0.9894\n",
            "Epoch 73/100\n",
            "50000/50000 [==============================] - 9s 188us/step - loss: 0.0392 - accuracy: 0.9881\n",
            "Epoch 74/100\n",
            "50000/50000 [==============================] - 9s 186us/step - loss: 0.0414 - accuracy: 0.9887\n",
            "Epoch 75/100\n",
            "50000/50000 [==============================] - 9s 185us/step - loss: 0.0415 - accuracy: 0.9889\n",
            "Epoch 76/100\n",
            "50000/50000 [==============================] - 9s 186us/step - loss: 0.0391 - accuracy: 0.9891\n",
            "Epoch 77/100\n",
            "50000/50000 [==============================] - 9s 185us/step - loss: 0.0389 - accuracy: 0.9894\n",
            "Epoch 78/100\n",
            "50000/50000 [==============================] - 9s 186us/step - loss: 0.0417 - accuracy: 0.9886\n",
            "Epoch 79/100\n",
            "50000/50000 [==============================] - 10s 209us/step - loss: 0.0413 - accuracy: 0.9887\n",
            "Epoch 80/100\n",
            "50000/50000 [==============================] - 9s 190us/step - loss: 0.0410 - accuracy: 0.9893\n",
            "Epoch 81/100\n",
            "50000/50000 [==============================] - 9s 187us/step - loss: 0.0380 - accuracy: 0.9898\n",
            "Epoch 82/100\n",
            "50000/50000 [==============================] - 9s 186us/step - loss: 0.0376 - accuracy: 0.9900\n",
            "Epoch 83/100\n",
            "50000/50000 [==============================] - 9s 189us/step - loss: 0.0393 - accuracy: 0.9892\n",
            "Epoch 84/100\n",
            "50000/50000 [==============================] - 10s 201us/step - loss: 0.0355 - accuracy: 0.9906\n",
            "Epoch 85/100\n",
            "50000/50000 [==============================] - 11s 213us/step - loss: 0.0356 - accuracy: 0.9904\n",
            "Epoch 86/100\n",
            "50000/50000 [==============================] - 9s 186us/step - loss: 0.0367 - accuracy: 0.9901\n",
            "Epoch 87/100\n",
            "50000/50000 [==============================] - 9s 185us/step - loss: 0.0407 - accuracy: 0.9891\n",
            "Epoch 88/100\n",
            "50000/50000 [==============================] - 9s 187us/step - loss: 0.0370 - accuracy: 0.9897\n",
            "Epoch 89/100\n",
            "50000/50000 [==============================] - 9s 184us/step - loss: 0.0388 - accuracy: 0.9904\n",
            "Epoch 90/100\n",
            "50000/50000 [==============================] - 9s 186us/step - loss: 0.0349 - accuracy: 0.9908\n",
            "Epoch 91/100\n",
            "50000/50000 [==============================] - 9s 187us/step - loss: 0.0389 - accuracy: 0.9895\n",
            "Epoch 92/100\n",
            "50000/50000 [==============================] - 9s 187us/step - loss: 0.0366 - accuracy: 0.9904\n",
            "Epoch 93/100\n",
            "50000/50000 [==============================] - 9s 187us/step - loss: 0.0377 - accuracy: 0.9894\n",
            "Epoch 94/100\n",
            "50000/50000 [==============================] - 9s 186us/step - loss: 0.0363 - accuracy: 0.9909\n",
            "Epoch 95/100\n",
            "50000/50000 [==============================] - 9s 187us/step - loss: 0.0353 - accuracy: 0.9908\n",
            "Epoch 96/100\n",
            "50000/50000 [==============================] - 10s 194us/step - loss: 0.0359 - accuracy: 0.9902\n",
            "Epoch 97/100\n",
            "50000/50000 [==============================] - 9s 187us/step - loss: 0.0390 - accuracy: 0.9899\n",
            "Epoch 98/100\n",
            "50000/50000 [==============================] - 9s 186us/step - loss: 0.0395 - accuracy: 0.9898\n",
            "Epoch 99/100\n",
            "50000/50000 [==============================] - 9s 187us/step - loss: 0.0389 - accuracy: 0.9904\n",
            "Epoch 100/100\n",
            "50000/50000 [==============================] - 9s 186us/step - loss: 0.0377 - accuracy: 0.9908\n"
          ],
          "name": "stdout"
        },
        {
          "output_type": "execute_result",
          "data": {
            "text/plain": [
              "<keras.callbacks.callbacks.History at 0x7f3adbf90a20>"
            ]
          },
          "metadata": {
            "tags": []
          },
          "execution_count": 20
        }
      ]
    },
    {
      "cell_type": "code",
      "metadata": {
        "id": "UnGmLFjXSXm-",
        "colab_type": "code",
        "colab": {
          "base_uri": "https://localhost:8080/",
          "height": 50
        },
        "outputId": "d926f31e-7b91-46be-9d15-19c0fdc5fa1f"
      },
      "source": [
        "\n",
        "model.evaluate(x_test,y_cat_test)"
      ],
      "execution_count": 21,
      "outputs": [
        {
          "output_type": "stream",
          "text": [
            "10000/10000 [==============================] - 1s 118us/step\n"
          ],
          "name": "stdout"
        },
        {
          "output_type": "execute_result",
          "data": {
            "text/plain": [
              "[8.075426029586792, 0.6061000227928162]"
            ]
          },
          "metadata": {
            "tags": []
          },
          "execution_count": 21
        }
      ]
    },
    {
      "cell_type": "code",
      "metadata": {
        "id": "xnFvHuiAhznW",
        "colab_type": "code",
        "colab": {}
      },
      "source": [
        "from sklearn.metrics import classification_report"
      ],
      "execution_count": 22,
      "outputs": []
    },
    {
      "cell_type": "code",
      "metadata": {
        "id": "KHuA8I50h2Z_",
        "colab_type": "code",
        "colab": {}
      },
      "source": [
        "\n",
        "predictions = model.predict_classes(x_test)"
      ],
      "execution_count": 23,
      "outputs": []
    },
    {
      "cell_type": "code",
      "metadata": {
        "id": "2BGqn9UKh49J",
        "colab_type": "code",
        "colab": {
          "base_uri": "https://localhost:8080/",
          "height": 302
        },
        "outputId": "7bd7625a-009b-4c10-8445-6b678eff4097"
      },
      "source": [
        "print(classification_report(y_test,predictions))"
      ],
      "execution_count": 24,
      "outputs": [
        {
          "output_type": "stream",
          "text": [
            "              precision    recall  f1-score   support\n",
            "\n",
            "           0       0.64      0.70      0.67      1000\n",
            "           1       0.72      0.76      0.74      1000\n",
            "           2       0.53      0.50      0.51      1000\n",
            "           3       0.39      0.44      0.42      1000\n",
            "           4       0.60      0.45      0.51      1000\n",
            "           5       0.47      0.52      0.49      1000\n",
            "           6       0.68      0.64      0.66      1000\n",
            "           7       0.63      0.69      0.66      1000\n",
            "           8       0.80      0.67      0.73      1000\n",
            "           9       0.66      0.70      0.68      1000\n",
            "\n",
            "    accuracy                           0.61     10000\n",
            "   macro avg       0.61      0.61      0.61     10000\n",
            "weighted avg       0.61      0.61      0.61     10000\n",
            "\n"
          ],
          "name": "stdout"
        }
      ]
    },
    {
      "cell_type": "code",
      "metadata": {
        "id": "YN677i3vi3LW",
        "colab_type": "code",
        "colab": {}
      },
      "source": [
        "#Method2"
      ],
      "execution_count": 25,
      "outputs": []
    },
    {
      "cell_type": "code",
      "metadata": {
        "id": "U3d5i1b51bGS",
        "colab_type": "code",
        "colab": {
          "base_uri": "https://localhost:8080/",
          "height": 504
        },
        "outputId": "fa5cd697-b93e-474b-c1a6-55be12d44a8c"
      },
      "source": [
        "#from tensorflow.keras import layers\n",
        "!pip install -U keras-tuner\n",
        "\n"
      ],
      "execution_count": 26,
      "outputs": [
        {
          "output_type": "stream",
          "text": [
            "Collecting keras-tuner\n",
            "\u001b[?25l  Downloading https://files.pythonhosted.org/packages/a7/f7/4b41b6832abf4c9bef71a664dc563adb25afc5812831667c6db572b1a261/keras-tuner-1.0.1.tar.gz (54kB)\n",
            "\r\u001b[K     |██████                          | 10kB 18.0MB/s eta 0:00:01\r\u001b[K     |████████████                    | 20kB 2.2MB/s eta 0:00:01\r\u001b[K     |██████████████████              | 30kB 2.8MB/s eta 0:00:01\r\u001b[K     |████████████████████████        | 40kB 3.0MB/s eta 0:00:01\r\u001b[K     |██████████████████████████████  | 51kB 2.5MB/s eta 0:00:01\r\u001b[K     |████████████████████████████████| 61kB 2.2MB/s \n",
            "\u001b[?25hRequirement already satisfied, skipping upgrade: future in /usr/local/lib/python3.6/dist-packages (from keras-tuner) (0.16.0)\n",
            "Requirement already satisfied, skipping upgrade: numpy in /usr/local/lib/python3.6/dist-packages (from keras-tuner) (1.18.5)\n",
            "Requirement already satisfied, skipping upgrade: tabulate in /usr/local/lib/python3.6/dist-packages (from keras-tuner) (0.8.7)\n",
            "Collecting terminaltables\n",
            "  Downloading https://files.pythonhosted.org/packages/9b/c4/4a21174f32f8a7e1104798c445dacdc1d4df86f2f26722767034e4de4bff/terminaltables-3.1.0.tar.gz\n",
            "Collecting colorama\n",
            "  Downloading https://files.pythonhosted.org/packages/c9/dc/45cdef1b4d119eb96316b3117e6d5708a08029992b2fee2c143c7a0a5cc5/colorama-0.4.3-py2.py3-none-any.whl\n",
            "Requirement already satisfied, skipping upgrade: tqdm in /usr/local/lib/python3.6/dist-packages (from keras-tuner) (4.41.1)\n",
            "Requirement already satisfied, skipping upgrade: requests in /usr/local/lib/python3.6/dist-packages (from keras-tuner) (2.23.0)\n",
            "Requirement already satisfied, skipping upgrade: scipy in /usr/local/lib/python3.6/dist-packages (from keras-tuner) (1.4.1)\n",
            "Requirement already satisfied, skipping upgrade: scikit-learn in /usr/local/lib/python3.6/dist-packages (from keras-tuner) (0.22.2.post1)\n",
            "Requirement already satisfied, skipping upgrade: urllib3!=1.25.0,!=1.25.1,<1.26,>=1.21.1 in /usr/local/lib/python3.6/dist-packages (from requests->keras-tuner) (1.24.3)\n",
            "Requirement already satisfied, skipping upgrade: certifi>=2017.4.17 in /usr/local/lib/python3.6/dist-packages (from requests->keras-tuner) (2020.6.20)\n",
            "Requirement already satisfied, skipping upgrade: idna<3,>=2.5 in /usr/local/lib/python3.6/dist-packages (from requests->keras-tuner) (2.10)\n",
            "Requirement already satisfied, skipping upgrade: chardet<4,>=3.0.2 in /usr/local/lib/python3.6/dist-packages (from requests->keras-tuner) (3.0.4)\n",
            "Requirement already satisfied, skipping upgrade: joblib>=0.11 in /usr/local/lib/python3.6/dist-packages (from scikit-learn->keras-tuner) (0.16.0)\n",
            "Building wheels for collected packages: keras-tuner, terminaltables\n",
            "  Building wheel for keras-tuner (setup.py) ... \u001b[?25l\u001b[?25hdone\n",
            "  Created wheel for keras-tuner: filename=keras_tuner-1.0.1-cp36-none-any.whl size=73200 sha256=76cc4a8c9cf5b9263d51c9e7870f288981b7ed5b60b136a37a4a3bfdd3de4dec\n",
            "  Stored in directory: /root/.cache/pip/wheels/b9/cc/62/52716b70dd90f3db12519233c3a93a5360bc672da1a10ded43\n",
            "  Building wheel for terminaltables (setup.py) ... \u001b[?25l\u001b[?25hdone\n",
            "  Created wheel for terminaltables: filename=terminaltables-3.1.0-cp36-none-any.whl size=15356 sha256=50dcd2d85d488cb58c3929aa36eeda18f9171184d3d1e40960b4ab359d9b8290\n",
            "  Stored in directory: /root/.cache/pip/wheels/30/6b/50/6c75775b681fb36cdfac7f19799888ef9d8813aff9e379663e\n",
            "Successfully built keras-tuner terminaltables\n",
            "Installing collected packages: terminaltables, colorama, keras-tuner\n",
            "Successfully installed colorama-0.4.3 keras-tuner-1.0.1 terminaltables-3.1.0\n"
          ],
          "name": "stdout"
        }
      ]
    },
    {
      "cell_type": "code",
      "metadata": {
        "id": "OT3nT-Kv_sH0",
        "colab_type": "code",
        "colab": {}
      },
      "source": [
        "from tensorflow import keras\n",
        "from tensorflow.keras import layers"
      ],
      "execution_count": 27,
      "outputs": []
    },
    {
      "cell_type": "code",
      "metadata": {
        "id": "gLefV09y_yjC",
        "colab_type": "code",
        "colab": {}
      },
      "source": [
        "from kerastuner.tuners import RandomSearch"
      ],
      "execution_count": 28,
      "outputs": []
    },
    {
      "cell_type": "code",
      "metadata": {
        "id": "hgsVrOm65ItD",
        "colab_type": "code",
        "colab": {}
      },
      "source": [
        "def build_model(hp):  \n",
        "  model = keras.Sequential([\n",
        "    keras.layers.Conv2D(\n",
        "        filters=hp.Int('conv_1_filter', min_value=32, max_value=128, step=16),\n",
        "        kernel_size=hp.Choice('conv_1_kernel', values = [3,5]),\n",
        "        activation='relu',\n",
        "        input_shape=(32,32,3)\n",
        "    ),\n",
        "    keras.layers.Conv2D(\n",
        "        filters=hp.Int('conv_2_filter', min_value=32, max_value=64, step=16),\n",
        "        kernel_size=hp.Choice('conv_2_kernel', values = [3,5]),\n",
        "        activation='relu'\n",
        "    ),\n",
        "    keras.layers.Flatten(),\n",
        "    keras.layers.Dense(\n",
        "        units=hp.Int('dense_1_units', min_value=32, max_value=128, step=16),\n",
        "        activation='relu'\n",
        "    ),\n",
        "    keras.layers.Dense(10, activation='softmax')\n",
        "  ])\n",
        "  \n",
        "  model.compile(optimizer=keras.optimizers.Adam(hp.Choice('learning_rate', values=[1e-2, 1e-3])),\n",
        "              loss='sparse_categorical_crossentropy',\n",
        "              metrics=['accuracy'])\n",
        "  \n",
        "  return model"
      ],
      "execution_count": 29,
      "outputs": []
    },
    {
      "cell_type": "code",
      "metadata": {
        "id": "NIkjCNX38Gx3",
        "colab_type": "code",
        "colab": {}
      },
      "source": [
        "from kerastuner import RandomSearch\n",
        "from kerastuner.engine.hyperparameters import HyperParameters"
      ],
      "execution_count": 30,
      "outputs": []
    },
    {
      "cell_type": "code",
      "metadata": {
        "id": "LV01hx618i2F",
        "colab_type": "code",
        "colab": {}
      },
      "source": [
        "tuner_search=RandomSearch(build_model,objective='val_accuracy',max_trials=5,directory='op',project_name=\"cifar10\")"
      ],
      "execution_count": 31,
      "outputs": []
    },
    {
      "cell_type": "code",
      "metadata": {
        "id": "_Hb4PfuF9EDb",
        "colab_type": "code",
        "colab": {
          "base_uri": "https://localhost:8080/",
          "height": 1000
        },
        "outputId": "4b219386-419e-4c5e-b0d4-8c1ac19b4d7c"
      },
      "source": [
        "tuner_search.search(x_train,y_train,epochs=3,validation_split=0.1)"
      ],
      "execution_count": 32,
      "outputs": [
        {
          "output_type": "stream",
          "text": [
            "Epoch 1/3\n",
            "1407/1407 [==============================] - 16s 11ms/step - loss: 1.4507 - accuracy: 0.4762 - val_loss: 1.1731 - val_accuracy: 0.5926\n",
            "Epoch 2/3\n",
            "1407/1407 [==============================] - 15s 11ms/step - loss: 1.0605 - accuracy: 0.6243 - val_loss: 1.0627 - val_accuracy: 0.6290\n",
            "Epoch 3/3\n",
            "1407/1407 [==============================] - 16s 11ms/step - loss: 0.8742 - accuracy: 0.6932 - val_loss: 1.0555 - val_accuracy: 0.6402\n"
          ],
          "name": "stdout"
        },
        {
          "output_type": "display_data",
          "data": {
            "text/html": [
              "<span style=\"color:#4527A0\"><h1 style=\"font-size:18px\">Trial complete</h1></span>"
            ],
            "text/plain": [
              "<IPython.core.display.HTML object>"
            ]
          },
          "metadata": {
            "tags": []
          }
        },
        {
          "output_type": "display_data",
          "data": {
            "text/html": [
              "<span style=\"color:#4527A0\"><h1 style=\"font-size:18px\">Trial summary</h1></span>"
            ],
            "text/plain": [
              "<IPython.core.display.HTML object>"
            ]
          },
          "metadata": {
            "tags": []
          }
        },
        {
          "output_type": "display_data",
          "data": {
            "text/html": [
              "<span style=\"color:cyan\"> |-Trial ID: f0aabc6a73676ec9014003de92bf860f</span>"
            ],
            "text/plain": [
              "<IPython.core.display.HTML object>"
            ]
          },
          "metadata": {
            "tags": []
          }
        },
        {
          "output_type": "display_data",
          "data": {
            "text/html": [
              "<span style=\"color:cyan\"> |-Score: 0.6402000188827515</span>"
            ],
            "text/plain": [
              "<IPython.core.display.HTML object>"
            ]
          },
          "metadata": {
            "tags": []
          }
        },
        {
          "output_type": "display_data",
          "data": {
            "text/html": [
              "<span style=\"color:cyan\"> |-Best step: 0</span>"
            ],
            "text/plain": [
              "<IPython.core.display.HTML object>"
            ]
          },
          "metadata": {
            "tags": []
          }
        },
        {
          "output_type": "display_data",
          "data": {
            "text/html": [
              "<span style=\"color:#7E57C2\"><h2 style=\"font-size:16px\">Hyperparameters:</h2></span>"
            ],
            "text/plain": [
              "<IPython.core.display.HTML object>"
            ]
          },
          "metadata": {
            "tags": []
          }
        },
        {
          "output_type": "display_data",
          "data": {
            "text/html": [
              "<span style=\"color:cyan\"> |-conv_1_filter: 64</span>"
            ],
            "text/plain": [
              "<IPython.core.display.HTML object>"
            ]
          },
          "metadata": {
            "tags": []
          }
        },
        {
          "output_type": "display_data",
          "data": {
            "text/html": [
              "<span style=\"color:blue\"> |-conv_1_kernel: 3</span>"
            ],
            "text/plain": [
              "<IPython.core.display.HTML object>"
            ]
          },
          "metadata": {
            "tags": []
          }
        },
        {
          "output_type": "display_data",
          "data": {
            "text/html": [
              "<span style=\"color:cyan\"> |-conv_2_filter: 48</span>"
            ],
            "text/plain": [
              "<IPython.core.display.HTML object>"
            ]
          },
          "metadata": {
            "tags": []
          }
        },
        {
          "output_type": "display_data",
          "data": {
            "text/html": [
              "<span style=\"color:blue\"> |-conv_2_kernel: 3</span>"
            ],
            "text/plain": [
              "<IPython.core.display.HTML object>"
            ]
          },
          "metadata": {
            "tags": []
          }
        },
        {
          "output_type": "display_data",
          "data": {
            "text/html": [
              "<span style=\"color:cyan\"> |-dense_1_units: 32</span>"
            ],
            "text/plain": [
              "<IPython.core.display.HTML object>"
            ]
          },
          "metadata": {
            "tags": []
          }
        },
        {
          "output_type": "display_data",
          "data": {
            "text/html": [
              "<span style=\"color:blue\"> |-learning_rate: 0.001</span>"
            ],
            "text/plain": [
              "<IPython.core.display.HTML object>"
            ]
          },
          "metadata": {
            "tags": []
          }
        },
        {
          "output_type": "stream",
          "text": [
            "Epoch 1/3\n",
            "1407/1407 [==============================] - 18s 12ms/step - loss: 2.4592 - accuracy: 0.0982 - val_loss: 2.3054 - val_accuracy: 0.0958\n",
            "Epoch 2/3\n",
            "1407/1407 [==============================] - 16s 12ms/step - loss: 2.3037 - accuracy: 0.1006 - val_loss: 2.3044 - val_accuracy: 0.0976\n",
            "Epoch 3/3\n",
            "1407/1407 [==============================] - 17s 12ms/step - loss: 2.3042 - accuracy: 0.0973 - val_loss: 2.3037 - val_accuracy: 0.0958\n"
          ],
          "name": "stdout"
        },
        {
          "output_type": "display_data",
          "data": {
            "text/html": [
              "<span style=\"color:#4527A0\"><h1 style=\"font-size:18px\">Trial complete</h1></span>"
            ],
            "text/plain": [
              "<IPython.core.display.HTML object>"
            ]
          },
          "metadata": {
            "tags": []
          }
        },
        {
          "output_type": "display_data",
          "data": {
            "text/html": [
              "<span style=\"color:#4527A0\"><h1 style=\"font-size:18px\">Trial summary</h1></span>"
            ],
            "text/plain": [
              "<IPython.core.display.HTML object>"
            ]
          },
          "metadata": {
            "tags": []
          }
        },
        {
          "output_type": "display_data",
          "data": {
            "text/html": [
              "<span style=\"color:cyan\"> |-Trial ID: e1d504e4769e5c60d9f8ceb1d7ad55a3</span>"
            ],
            "text/plain": [
              "<IPython.core.display.HTML object>"
            ]
          },
          "metadata": {
            "tags": []
          }
        },
        {
          "output_type": "display_data",
          "data": {
            "text/html": [
              "<span style=\"color:cyan\"> |-Score: 0.09759999811649323</span>"
            ],
            "text/plain": [
              "<IPython.core.display.HTML object>"
            ]
          },
          "metadata": {
            "tags": []
          }
        },
        {
          "output_type": "display_data",
          "data": {
            "text/html": [
              "<span style=\"color:cyan\"> |-Best step: 0</span>"
            ],
            "text/plain": [
              "<IPython.core.display.HTML object>"
            ]
          },
          "metadata": {
            "tags": []
          }
        },
        {
          "output_type": "display_data",
          "data": {
            "text/html": [
              "<span style=\"color:#7E57C2\"><h2 style=\"font-size:16px\">Hyperparameters:</h2></span>"
            ],
            "text/plain": [
              "<IPython.core.display.HTML object>"
            ]
          },
          "metadata": {
            "tags": []
          }
        },
        {
          "output_type": "display_data",
          "data": {
            "text/html": [
              "<span style=\"color:cyan\"> |-conv_1_filter: 96</span>"
            ],
            "text/plain": [
              "<IPython.core.display.HTML object>"
            ]
          },
          "metadata": {
            "tags": []
          }
        },
        {
          "output_type": "display_data",
          "data": {
            "text/html": [
              "<span style=\"color:blue\"> |-conv_1_kernel: 5</span>"
            ],
            "text/plain": [
              "<IPython.core.display.HTML object>"
            ]
          },
          "metadata": {
            "tags": []
          }
        },
        {
          "output_type": "display_data",
          "data": {
            "text/html": [
              "<span style=\"color:cyan\"> |-conv_2_filter: 48</span>"
            ],
            "text/plain": [
              "<IPython.core.display.HTML object>"
            ]
          },
          "metadata": {
            "tags": []
          }
        },
        {
          "output_type": "display_data",
          "data": {
            "text/html": [
              "<span style=\"color:blue\"> |-conv_2_kernel: 5</span>"
            ],
            "text/plain": [
              "<IPython.core.display.HTML object>"
            ]
          },
          "metadata": {
            "tags": []
          }
        },
        {
          "output_type": "display_data",
          "data": {
            "text/html": [
              "<span style=\"color:cyan\"> |-dense_1_units: 64</span>"
            ],
            "text/plain": [
              "<IPython.core.display.HTML object>"
            ]
          },
          "metadata": {
            "tags": []
          }
        },
        {
          "output_type": "display_data",
          "data": {
            "text/html": [
              "<span style=\"color:blue\"> |-learning_rate: 0.01</span>"
            ],
            "text/plain": [
              "<IPython.core.display.HTML object>"
            ]
          },
          "metadata": {
            "tags": []
          }
        },
        {
          "output_type": "stream",
          "text": [
            "Epoch 1/3\n",
            "1407/1407 [==============================] - 16s 11ms/step - loss: 1.5644 - accuracy: 0.4364 - val_loss: 1.3221 - val_accuracy: 0.5298\n",
            "Epoch 2/3\n",
            "1407/1407 [==============================] - 16s 11ms/step - loss: 1.2615 - accuracy: 0.5528 - val_loss: 1.3588 - val_accuracy: 0.5162\n",
            "Epoch 3/3\n",
            "1407/1407 [==============================] - 16s 11ms/step - loss: 1.1101 - accuracy: 0.6064 - val_loss: 1.1512 - val_accuracy: 0.5932\n"
          ],
          "name": "stdout"
        },
        {
          "output_type": "display_data",
          "data": {
            "text/html": [
              "<span style=\"color:#4527A0\"><h1 style=\"font-size:18px\">Trial complete</h1></span>"
            ],
            "text/plain": [
              "<IPython.core.display.HTML object>"
            ]
          },
          "metadata": {
            "tags": []
          }
        },
        {
          "output_type": "display_data",
          "data": {
            "text/html": [
              "<span style=\"color:#4527A0\"><h1 style=\"font-size:18px\">Trial summary</h1></span>"
            ],
            "text/plain": [
              "<IPython.core.display.HTML object>"
            ]
          },
          "metadata": {
            "tags": []
          }
        },
        {
          "output_type": "display_data",
          "data": {
            "text/html": [
              "<span style=\"color:cyan\"> |-Trial ID: 25d3e1f358b8127591b0624637fa2263</span>"
            ],
            "text/plain": [
              "<IPython.core.display.HTML object>"
            ]
          },
          "metadata": {
            "tags": []
          }
        },
        {
          "output_type": "display_data",
          "data": {
            "text/html": [
              "<span style=\"color:cyan\"> |-Score: 0.5932000279426575</span>"
            ],
            "text/plain": [
              "<IPython.core.display.HTML object>"
            ]
          },
          "metadata": {
            "tags": []
          }
        },
        {
          "output_type": "display_data",
          "data": {
            "text/html": [
              "<span style=\"color:cyan\"> |-Best step: 0</span>"
            ],
            "text/plain": [
              "<IPython.core.display.HTML object>"
            ]
          },
          "metadata": {
            "tags": []
          }
        },
        {
          "output_type": "display_data",
          "data": {
            "text/html": [
              "<span style=\"color:#7E57C2\"><h2 style=\"font-size:16px\">Hyperparameters:</h2></span>"
            ],
            "text/plain": [
              "<IPython.core.display.HTML object>"
            ]
          },
          "metadata": {
            "tags": []
          }
        },
        {
          "output_type": "display_data",
          "data": {
            "text/html": [
              "<span style=\"color:cyan\"> |-conv_1_filter: 80</span>"
            ],
            "text/plain": [
              "<IPython.core.display.HTML object>"
            ]
          },
          "metadata": {
            "tags": []
          }
        },
        {
          "output_type": "display_data",
          "data": {
            "text/html": [
              "<span style=\"color:blue\"> |-conv_1_kernel: 5</span>"
            ],
            "text/plain": [
              "<IPython.core.display.HTML object>"
            ]
          },
          "metadata": {
            "tags": []
          }
        },
        {
          "output_type": "display_data",
          "data": {
            "text/html": [
              "<span style=\"color:cyan\"> |-conv_2_filter: 48</span>"
            ],
            "text/plain": [
              "<IPython.core.display.HTML object>"
            ]
          },
          "metadata": {
            "tags": []
          }
        },
        {
          "output_type": "display_data",
          "data": {
            "text/html": [
              "<span style=\"color:blue\"> |-conv_2_kernel: 5</span>"
            ],
            "text/plain": [
              "<IPython.core.display.HTML object>"
            ]
          },
          "metadata": {
            "tags": []
          }
        },
        {
          "output_type": "display_data",
          "data": {
            "text/html": [
              "<span style=\"color:cyan\"> |-dense_1_units: 96</span>"
            ],
            "text/plain": [
              "<IPython.core.display.HTML object>"
            ]
          },
          "metadata": {
            "tags": []
          }
        },
        {
          "output_type": "display_data",
          "data": {
            "text/html": [
              "<span style=\"color:blue\"> |-learning_rate: 0.001</span>"
            ],
            "text/plain": [
              "<IPython.core.display.HTML object>"
            ]
          },
          "metadata": {
            "tags": []
          }
        },
        {
          "output_type": "stream",
          "text": [
            "Epoch 1/3\n",
            "1407/1407 [==============================] - 15s 10ms/step - loss: 2.3773 - accuracy: 0.0986 - val_loss: 2.3035 - val_accuracy: 0.0976\n",
            "Epoch 2/3\n",
            "1407/1407 [==============================] - 14s 10ms/step - loss: 2.3043 - accuracy: 0.0968 - val_loss: 2.3046 - val_accuracy: 0.0970\n",
            "Epoch 3/3\n",
            "1407/1407 [==============================] - 15s 10ms/step - loss: 2.3039 - accuracy: 0.0997 - val_loss: 2.3040 - val_accuracy: 0.0950\n"
          ],
          "name": "stdout"
        },
        {
          "output_type": "display_data",
          "data": {
            "text/html": [
              "<span style=\"color:#4527A0\"><h1 style=\"font-size:18px\">Trial complete</h1></span>"
            ],
            "text/plain": [
              "<IPython.core.display.HTML object>"
            ]
          },
          "metadata": {
            "tags": []
          }
        },
        {
          "output_type": "display_data",
          "data": {
            "text/html": [
              "<span style=\"color:#4527A0\"><h1 style=\"font-size:18px\">Trial summary</h1></span>"
            ],
            "text/plain": [
              "<IPython.core.display.HTML object>"
            ]
          },
          "metadata": {
            "tags": []
          }
        },
        {
          "output_type": "display_data",
          "data": {
            "text/html": [
              "<span style=\"color:cyan\"> |-Trial ID: 390f8716fa74d86449e99c1bb58ac19f</span>"
            ],
            "text/plain": [
              "<IPython.core.display.HTML object>"
            ]
          },
          "metadata": {
            "tags": []
          }
        },
        {
          "output_type": "display_data",
          "data": {
            "text/html": [
              "<span style=\"color:cyan\"> |-Score: 0.09759999811649323</span>"
            ],
            "text/plain": [
              "<IPython.core.display.HTML object>"
            ]
          },
          "metadata": {
            "tags": []
          }
        },
        {
          "output_type": "display_data",
          "data": {
            "text/html": [
              "<span style=\"color:cyan\"> |-Best step: 0</span>"
            ],
            "text/plain": [
              "<IPython.core.display.HTML object>"
            ]
          },
          "metadata": {
            "tags": []
          }
        },
        {
          "output_type": "display_data",
          "data": {
            "text/html": [
              "<span style=\"color:#7E57C2\"><h2 style=\"font-size:16px\">Hyperparameters:</h2></span>"
            ],
            "text/plain": [
              "<IPython.core.display.HTML object>"
            ]
          },
          "metadata": {
            "tags": []
          }
        },
        {
          "output_type": "display_data",
          "data": {
            "text/html": [
              "<span style=\"color:cyan\"> |-conv_1_filter: 32</span>"
            ],
            "text/plain": [
              "<IPython.core.display.HTML object>"
            ]
          },
          "metadata": {
            "tags": []
          }
        },
        {
          "output_type": "display_data",
          "data": {
            "text/html": [
              "<span style=\"color:blue\"> |-conv_1_kernel: 5</span>"
            ],
            "text/plain": [
              "<IPython.core.display.HTML object>"
            ]
          },
          "metadata": {
            "tags": []
          }
        },
        {
          "output_type": "display_data",
          "data": {
            "text/html": [
              "<span style=\"color:cyan\"> |-conv_2_filter: 64</span>"
            ],
            "text/plain": [
              "<IPython.core.display.HTML object>"
            ]
          },
          "metadata": {
            "tags": []
          }
        },
        {
          "output_type": "display_data",
          "data": {
            "text/html": [
              "<span style=\"color:blue\"> |-conv_2_kernel: 3</span>"
            ],
            "text/plain": [
              "<IPython.core.display.HTML object>"
            ]
          },
          "metadata": {
            "tags": []
          }
        },
        {
          "output_type": "display_data",
          "data": {
            "text/html": [
              "<span style=\"color:cyan\"> |-dense_1_units: 80</span>"
            ],
            "text/plain": [
              "<IPython.core.display.HTML object>"
            ]
          },
          "metadata": {
            "tags": []
          }
        },
        {
          "output_type": "display_data",
          "data": {
            "text/html": [
              "<span style=\"color:blue\"> |-learning_rate: 0.01</span>"
            ],
            "text/plain": [
              "<IPython.core.display.HTML object>"
            ]
          },
          "metadata": {
            "tags": []
          }
        },
        {
          "output_type": "stream",
          "text": [
            "Epoch 1/3\n",
            "1407/1407 [==============================] - 17s 12ms/step - loss: 2.4297 - accuracy: 0.1007 - val_loss: 2.3028 - val_accuracy: 0.0958\n",
            "Epoch 2/3\n",
            "1407/1407 [==============================] - 18s 13ms/step - loss: 2.3039 - accuracy: 0.1001 - val_loss: 2.3054 - val_accuracy: 0.0970\n",
            "Epoch 3/3\n",
            "1407/1407 [==============================] - 20s 14ms/step - loss: 2.3039 - accuracy: 0.0993 - val_loss: 2.3034 - val_accuracy: 0.1024\n"
          ],
          "name": "stdout"
        },
        {
          "output_type": "display_data",
          "data": {
            "text/html": [
              "<span style=\"color:#4527A0\"><h1 style=\"font-size:18px\">Trial complete</h1></span>"
            ],
            "text/plain": [
              "<IPython.core.display.HTML object>"
            ]
          },
          "metadata": {
            "tags": []
          }
        },
        {
          "output_type": "display_data",
          "data": {
            "text/html": [
              "<span style=\"color:#4527A0\"><h1 style=\"font-size:18px\">Trial summary</h1></span>"
            ],
            "text/plain": [
              "<IPython.core.display.HTML object>"
            ]
          },
          "metadata": {
            "tags": []
          }
        },
        {
          "output_type": "display_data",
          "data": {
            "text/html": [
              "<span style=\"color:cyan\"> |-Trial ID: 703165ecce9d83c2ad92c325e1664937</span>"
            ],
            "text/plain": [
              "<IPython.core.display.HTML object>"
            ]
          },
          "metadata": {
            "tags": []
          }
        },
        {
          "output_type": "display_data",
          "data": {
            "text/html": [
              "<span style=\"color:cyan\"> |-Score: 0.10239999741315842</span>"
            ],
            "text/plain": [
              "<IPython.core.display.HTML object>"
            ]
          },
          "metadata": {
            "tags": []
          }
        },
        {
          "output_type": "display_data",
          "data": {
            "text/html": [
              "<span style=\"color:cyan\"> |-Best step: 0</span>"
            ],
            "text/plain": [
              "<IPython.core.display.HTML object>"
            ]
          },
          "metadata": {
            "tags": []
          }
        },
        {
          "output_type": "display_data",
          "data": {
            "text/html": [
              "<span style=\"color:#7E57C2\"><h2 style=\"font-size:16px\">Hyperparameters:</h2></span>"
            ],
            "text/plain": [
              "<IPython.core.display.HTML object>"
            ]
          },
          "metadata": {
            "tags": []
          }
        },
        {
          "output_type": "display_data",
          "data": {
            "text/html": [
              "<span style=\"color:cyan\"> |-conv_1_filter: 96</span>"
            ],
            "text/plain": [
              "<IPython.core.display.HTML object>"
            ]
          },
          "metadata": {
            "tags": []
          }
        },
        {
          "output_type": "display_data",
          "data": {
            "text/html": [
              "<span style=\"color:blue\"> |-conv_1_kernel: 5</span>"
            ],
            "text/plain": [
              "<IPython.core.display.HTML object>"
            ]
          },
          "metadata": {
            "tags": []
          }
        },
        {
          "output_type": "display_data",
          "data": {
            "text/html": [
              "<span style=\"color:cyan\"> |-conv_2_filter: 48</span>"
            ],
            "text/plain": [
              "<IPython.core.display.HTML object>"
            ]
          },
          "metadata": {
            "tags": []
          }
        },
        {
          "output_type": "display_data",
          "data": {
            "text/html": [
              "<span style=\"color:blue\"> |-conv_2_kernel: 5</span>"
            ],
            "text/plain": [
              "<IPython.core.display.HTML object>"
            ]
          },
          "metadata": {
            "tags": []
          }
        },
        {
          "output_type": "display_data",
          "data": {
            "text/html": [
              "<span style=\"color:cyan\"> |-dense_1_units: 112</span>"
            ],
            "text/plain": [
              "<IPython.core.display.HTML object>"
            ]
          },
          "metadata": {
            "tags": []
          }
        },
        {
          "output_type": "display_data",
          "data": {
            "text/html": [
              "<span style=\"color:blue\"> |-learning_rate: 0.01</span>"
            ],
            "text/plain": [
              "<IPython.core.display.HTML object>"
            ]
          },
          "metadata": {
            "tags": []
          }
        },
        {
          "output_type": "stream",
          "text": [
            "INFO:tensorflow:Oracle triggered exit\n"
          ],
          "name": "stdout"
        }
      ]
    },
    {
      "cell_type": "code",
      "metadata": {
        "id": "Ogn4PFZcAWk6",
        "colab_type": "code",
        "colab": {}
      },
      "source": [
        "\n",
        "model=tuner_search.get_best_models(num_models=1)[0]"
      ],
      "execution_count": 33,
      "outputs": []
    },
    {
      "cell_type": "code",
      "metadata": {
        "id": "r-zniK75BZF5",
        "colab_type": "code",
        "colab": {
          "base_uri": "https://localhost:8080/",
          "height": 319
        },
        "outputId": "28fe5a49-75d3-41d9-ac8c-6a98bacafeb0"
      },
      "source": [
        "model.summary()"
      ],
      "execution_count": 34,
      "outputs": [
        {
          "output_type": "stream",
          "text": [
            "Model: \"sequential\"\n",
            "_________________________________________________________________\n",
            "Layer (type)                 Output Shape              Param #   \n",
            "=================================================================\n",
            "conv2d (Conv2D)              (None, 30, 30, 64)        1792      \n",
            "_________________________________________________________________\n",
            "conv2d_1 (Conv2D)            (None, 28, 28, 48)        27696     \n",
            "_________________________________________________________________\n",
            "flatten (Flatten)            (None, 37632)             0         \n",
            "_________________________________________________________________\n",
            "dense (Dense)                (None, 32)                1204256   \n",
            "_________________________________________________________________\n",
            "dense_1 (Dense)              (None, 10)                330       \n",
            "=================================================================\n",
            "Total params: 1,234,074\n",
            "Trainable params: 1,234,074\n",
            "Non-trainable params: 0\n",
            "_________________________________________________________________\n"
          ],
          "name": "stdout"
        }
      ]
    },
    {
      "cell_type": "code",
      "metadata": {
        "id": "hSOkUyP4Bm9k",
        "colab_type": "code",
        "colab": {
          "base_uri": "https://localhost:8080/",
          "height": 1000
        },
        "outputId": "c20dd663-1132-4ef5-fd77-27efe2bd3d78"
      },
      "source": [
        "model.fit(x_train,y_train,epochs=100,validation_split=0.1)"
      ],
      "execution_count": 35,
      "outputs": [
        {
          "output_type": "stream",
          "text": [
            "Epoch 1/100\n",
            "1407/1407 [==============================] - 17s 12ms/step - loss: 0.7107 - accuracy: 0.7498 - val_loss: 1.0847 - val_accuracy: 0.6338\n",
            "Epoch 2/100\n",
            "1407/1407 [==============================] - 17s 12ms/step - loss: 0.5528 - accuracy: 0.8067 - val_loss: 1.1631 - val_accuracy: 0.6350\n",
            "Epoch 3/100\n",
            "1407/1407 [==============================] - 17s 12ms/step - loss: 0.4117 - accuracy: 0.8570 - val_loss: 1.3449 - val_accuracy: 0.6232\n",
            "Epoch 4/100\n",
            "1407/1407 [==============================] - 16s 12ms/step - loss: 0.3004 - accuracy: 0.8952 - val_loss: 1.5324 - val_accuracy: 0.6192\n",
            "Epoch 5/100\n",
            "1407/1407 [==============================] - 16s 12ms/step - loss: 0.2145 - accuracy: 0.9252 - val_loss: 1.8327 - val_accuracy: 0.6120\n",
            "Epoch 6/100\n",
            "1407/1407 [==============================] - 16s 12ms/step - loss: 0.1570 - accuracy: 0.9450 - val_loss: 2.2230 - val_accuracy: 0.5972\n",
            "Epoch 7/100\n",
            "1407/1407 [==============================] - 17s 12ms/step - loss: 0.1363 - accuracy: 0.9532 - val_loss: 2.4744 - val_accuracy: 0.5968\n",
            "Epoch 8/100\n",
            "1407/1407 [==============================] - 16s 11ms/step - loss: 0.1131 - accuracy: 0.9605 - val_loss: 2.7008 - val_accuracy: 0.6010\n",
            "Epoch 9/100\n",
            "1407/1407 [==============================] - 16s 11ms/step - loss: 0.0955 - accuracy: 0.9670 - val_loss: 2.9202 - val_accuracy: 0.5970\n",
            "Epoch 10/100\n",
            "1407/1407 [==============================] - 17s 12ms/step - loss: 0.0874 - accuracy: 0.9700 - val_loss: 3.1718 - val_accuracy: 0.5876\n",
            "Epoch 11/100\n",
            "1407/1407 [==============================] - 16s 11ms/step - loss: 0.0892 - accuracy: 0.9698 - val_loss: 3.1391 - val_accuracy: 0.6052\n",
            "Epoch 12/100\n",
            "1407/1407 [==============================] - 16s 11ms/step - loss: 0.0713 - accuracy: 0.9760 - val_loss: 3.2772 - val_accuracy: 0.5930\n",
            "Epoch 13/100\n",
            "1407/1407 [==============================] - 16s 11ms/step - loss: 0.0782 - accuracy: 0.9742 - val_loss: 3.5100 - val_accuracy: 0.5980\n",
            "Epoch 14/100\n",
            "1407/1407 [==============================] - 19s 14ms/step - loss: 0.0672 - accuracy: 0.9776 - val_loss: 3.6683 - val_accuracy: 0.5934\n",
            "Epoch 15/100\n",
            "1407/1407 [==============================] - 16s 12ms/step - loss: 0.0670 - accuracy: 0.9775 - val_loss: 3.8043 - val_accuracy: 0.5990\n",
            "Epoch 16/100\n",
            "1407/1407 [==============================] - 16s 11ms/step - loss: 0.0609 - accuracy: 0.9795 - val_loss: 4.0168 - val_accuracy: 0.5910\n",
            "Epoch 17/100\n",
            "1407/1407 [==============================] - 16s 12ms/step - loss: 0.0553 - accuracy: 0.9823 - val_loss: 4.1473 - val_accuracy: 0.5974\n",
            "Epoch 18/100\n",
            "1407/1407 [==============================] - 16s 11ms/step - loss: 0.0601 - accuracy: 0.9798 - val_loss: 4.2098 - val_accuracy: 0.5902\n",
            "Epoch 19/100\n",
            "1407/1407 [==============================] - 16s 11ms/step - loss: 0.0580 - accuracy: 0.9817 - val_loss: 4.0993 - val_accuracy: 0.5868\n",
            "Epoch 20/100\n",
            "1407/1407 [==============================] - 16s 12ms/step - loss: 0.0504 - accuracy: 0.9828 - val_loss: 4.5037 - val_accuracy: 0.5908\n",
            "Epoch 21/100\n",
            "1407/1407 [==============================] - 16s 11ms/step - loss: 0.0513 - accuracy: 0.9832 - val_loss: 4.3732 - val_accuracy: 0.5910\n",
            "Epoch 22/100\n",
            "1407/1407 [==============================] - 15s 10ms/step - loss: 0.0458 - accuracy: 0.9854 - val_loss: 4.4964 - val_accuracy: 0.6034\n",
            "Epoch 23/100\n",
            "1407/1407 [==============================] - 15s 11ms/step - loss: 0.0591 - accuracy: 0.9808 - val_loss: 4.5190 - val_accuracy: 0.5902\n",
            "Epoch 24/100\n",
            "1407/1407 [==============================] - 15s 11ms/step - loss: 0.0436 - accuracy: 0.9856 - val_loss: 4.8067 - val_accuracy: 0.5918\n",
            "Epoch 25/100\n",
            "1407/1407 [==============================] - 15s 10ms/step - loss: 0.0534 - accuracy: 0.9835 - val_loss: 4.6164 - val_accuracy: 0.5866\n",
            "Epoch 26/100\n",
            "1407/1407 [==============================] - 15s 11ms/step - loss: 0.0441 - accuracy: 0.9853 - val_loss: 4.7608 - val_accuracy: 0.5990\n",
            "Epoch 27/100\n",
            "1407/1407 [==============================] - 17s 12ms/step - loss: 0.0409 - accuracy: 0.9866 - val_loss: 4.9441 - val_accuracy: 0.5964\n",
            "Epoch 28/100\n",
            "1407/1407 [==============================] - 15s 11ms/step - loss: 0.0483 - accuracy: 0.9853 - val_loss: 5.1826 - val_accuracy: 0.5898\n",
            "Epoch 29/100\n",
            "1407/1407 [==============================] - 16s 11ms/step - loss: 0.0434 - accuracy: 0.9863 - val_loss: 5.2326 - val_accuracy: 0.5956\n",
            "Epoch 30/100\n",
            "1407/1407 [==============================] - 15s 11ms/step - loss: 0.0462 - accuracy: 0.9857 - val_loss: 5.1183 - val_accuracy: 0.5826\n",
            "Epoch 31/100\n",
            "1407/1407 [==============================] - 15s 10ms/step - loss: 0.0409 - accuracy: 0.9878 - val_loss: 5.2088 - val_accuracy: 0.5930\n",
            "Epoch 32/100\n",
            "1407/1407 [==============================] - 15s 11ms/step - loss: 0.0416 - accuracy: 0.9873 - val_loss: 5.3449 - val_accuracy: 0.5954\n",
            "Epoch 33/100\n",
            "1407/1407 [==============================] - 15s 11ms/step - loss: 0.0442 - accuracy: 0.9867 - val_loss: 5.1305 - val_accuracy: 0.5956\n",
            "Epoch 34/100\n",
            "1407/1407 [==============================] - 15s 11ms/step - loss: 0.0439 - accuracy: 0.9866 - val_loss: 5.4391 - val_accuracy: 0.5908\n",
            "Epoch 35/100\n",
            "1407/1407 [==============================] - 15s 10ms/step - loss: 0.0347 - accuracy: 0.9892 - val_loss: 5.3624 - val_accuracy: 0.5878\n",
            "Epoch 36/100\n",
            "1407/1407 [==============================] - 15s 11ms/step - loss: 0.0401 - accuracy: 0.9880 - val_loss: 5.4808 - val_accuracy: 0.5818\n",
            "Epoch 37/100\n",
            "1407/1407 [==============================] - 15s 10ms/step - loss: 0.0377 - accuracy: 0.9890 - val_loss: 5.8341 - val_accuracy: 0.5944\n",
            "Epoch 38/100\n",
            "1407/1407 [==============================] - 15s 10ms/step - loss: 0.0355 - accuracy: 0.9891 - val_loss: 5.6359 - val_accuracy: 0.5824\n",
            "Epoch 39/100\n",
            "1407/1407 [==============================] - 15s 11ms/step - loss: 0.0328 - accuracy: 0.9896 - val_loss: 5.6963 - val_accuracy: 0.5852\n",
            "Epoch 40/100\n",
            "1407/1407 [==============================] - 17s 12ms/step - loss: 0.0411 - accuracy: 0.9881 - val_loss: 5.7317 - val_accuracy: 0.5856\n",
            "Epoch 41/100\n",
            "1407/1407 [==============================] - 15s 10ms/step - loss: 0.0324 - accuracy: 0.9902 - val_loss: 5.8872 - val_accuracy: 0.5884\n",
            "Epoch 42/100\n",
            "1407/1407 [==============================] - 15s 10ms/step - loss: 0.0309 - accuracy: 0.9904 - val_loss: 5.8868 - val_accuracy: 0.5912\n",
            "Epoch 43/100\n",
            "1407/1407 [==============================] - 15s 11ms/step - loss: 0.0337 - accuracy: 0.9899 - val_loss: 5.8423 - val_accuracy: 0.5894\n",
            "Epoch 44/100\n",
            "1407/1407 [==============================] - 15s 11ms/step - loss: 0.0377 - accuracy: 0.9896 - val_loss: 6.1034 - val_accuracy: 0.5872\n",
            "Epoch 45/100\n",
            "1407/1407 [==============================] - 15s 11ms/step - loss: 0.0333 - accuracy: 0.9905 - val_loss: 6.2085 - val_accuracy: 0.5816\n",
            "Epoch 46/100\n",
            "1407/1407 [==============================] - 15s 10ms/step - loss: 0.0313 - accuracy: 0.9909 - val_loss: 6.1438 - val_accuracy: 0.5894\n",
            "Epoch 47/100\n",
            "1407/1407 [==============================] - 14s 10ms/step - loss: 0.0329 - accuracy: 0.9907 - val_loss: 5.9957 - val_accuracy: 0.5866\n",
            "Epoch 48/100\n",
            "1407/1407 [==============================] - 14s 10ms/step - loss: 0.0286 - accuracy: 0.9915 - val_loss: 6.0500 - val_accuracy: 0.5904\n",
            "Epoch 49/100\n",
            "1407/1407 [==============================] - 14s 10ms/step - loss: 0.0377 - accuracy: 0.9891 - val_loss: 6.4564 - val_accuracy: 0.5910\n",
            "Epoch 50/100\n",
            "1407/1407 [==============================] - 15s 10ms/step - loss: 0.0292 - accuracy: 0.9916 - val_loss: 6.5371 - val_accuracy: 0.5828\n",
            "Epoch 51/100\n",
            "1407/1407 [==============================] - 14s 10ms/step - loss: 0.0320 - accuracy: 0.9903 - val_loss: 6.9028 - val_accuracy: 0.5840\n",
            "Epoch 52/100\n",
            "1407/1407 [==============================] - 14s 10ms/step - loss: 0.0327 - accuracy: 0.9906 - val_loss: 6.5739 - val_accuracy: 0.5850\n",
            "Epoch 53/100\n",
            "1407/1407 [==============================] - 14s 10ms/step - loss: 0.0279 - accuracy: 0.9913 - val_loss: 6.7841 - val_accuracy: 0.5738\n",
            "Epoch 54/100\n",
            "1407/1407 [==============================] - 14s 10ms/step - loss: 0.0300 - accuracy: 0.9918 - val_loss: 6.4821 - val_accuracy: 0.5890\n",
            "Epoch 55/100\n",
            "1407/1407 [==============================] - 14s 10ms/step - loss: 0.0310 - accuracy: 0.9904 - val_loss: 6.9496 - val_accuracy: 0.5714\n",
            "Epoch 56/100\n",
            "1407/1407 [==============================] - 14s 10ms/step - loss: 0.0213 - accuracy: 0.9938 - val_loss: 6.9057 - val_accuracy: 0.5828\n",
            "Epoch 57/100\n",
            "1407/1407 [==============================] - 14s 10ms/step - loss: 0.0401 - accuracy: 0.9894 - val_loss: 6.8556 - val_accuracy: 0.5816\n",
            "Epoch 58/100\n",
            "1407/1407 [==============================] - 14s 10ms/step - loss: 0.0266 - accuracy: 0.9925 - val_loss: 7.0390 - val_accuracy: 0.5702\n",
            "Epoch 59/100\n",
            "1407/1407 [==============================] - 14s 10ms/step - loss: 0.0274 - accuracy: 0.9921 - val_loss: 7.0719 - val_accuracy: 0.5810\n",
            "Epoch 60/100\n",
            "1407/1407 [==============================] - 14s 10ms/step - loss: 0.0333 - accuracy: 0.9915 - val_loss: 7.2520 - val_accuracy: 0.5860\n",
            "Epoch 61/100\n",
            "1407/1407 [==============================] - 14s 10ms/step - loss: 0.0234 - accuracy: 0.9936 - val_loss: 7.1599 - val_accuracy: 0.5852\n",
            "Epoch 62/100\n",
            "1407/1407 [==============================] - 14s 10ms/step - loss: 0.0314 - accuracy: 0.9911 - val_loss: 7.3736 - val_accuracy: 0.5786\n",
            "Epoch 63/100\n",
            "1407/1407 [==============================] - 14s 10ms/step - loss: 0.0253 - accuracy: 0.9928 - val_loss: 7.4273 - val_accuracy: 0.5790\n",
            "Epoch 64/100\n",
            "1407/1407 [==============================] - 14s 10ms/step - loss: 0.0308 - accuracy: 0.9917 - val_loss: 7.1079 - val_accuracy: 0.5770\n",
            "Epoch 65/100\n",
            "1407/1407 [==============================] - 14s 10ms/step - loss: 0.0277 - accuracy: 0.9923 - val_loss: 6.9717 - val_accuracy: 0.5796\n",
            "Epoch 66/100\n",
            "1407/1407 [==============================] - 14s 10ms/step - loss: 0.0242 - accuracy: 0.9934 - val_loss: 7.5300 - val_accuracy: 0.5832\n",
            "Epoch 67/100\n",
            "1407/1407 [==============================] - 14s 10ms/step - loss: 0.0266 - accuracy: 0.9929 - val_loss: 7.4495 - val_accuracy: 0.5860\n",
            "Epoch 68/100\n",
            "1407/1407 [==============================] - 15s 10ms/step - loss: 0.0296 - accuracy: 0.9921 - val_loss: 7.5588 - val_accuracy: 0.5842\n",
            "Epoch 69/100\n",
            "1407/1407 [==============================] - 14s 10ms/step - loss: 0.0213 - accuracy: 0.9942 - val_loss: 7.5132 - val_accuracy: 0.5874\n",
            "Epoch 70/100\n",
            "1407/1407 [==============================] - 14s 10ms/step - loss: 0.0264 - accuracy: 0.9921 - val_loss: 8.0087 - val_accuracy: 0.5806\n",
            "Epoch 71/100\n",
            "1407/1407 [==============================] - 14s 10ms/step - loss: 0.0274 - accuracy: 0.9929 - val_loss: 8.1055 - val_accuracy: 0.5740\n",
            "Epoch 72/100\n",
            "1407/1407 [==============================] - 16s 11ms/step - loss: 0.0279 - accuracy: 0.9928 - val_loss: 7.6058 - val_accuracy: 0.5748\n",
            "Epoch 73/100\n",
            "1407/1407 [==============================] - 15s 11ms/step - loss: 0.0238 - accuracy: 0.9940 - val_loss: 7.9167 - val_accuracy: 0.5784\n",
            "Epoch 74/100\n",
            "1407/1407 [==============================] - 15s 11ms/step - loss: 0.0228 - accuracy: 0.9940 - val_loss: 8.1072 - val_accuracy: 0.5752\n",
            "Epoch 75/100\n",
            "1407/1407 [==============================] - 15s 10ms/step - loss: 0.0278 - accuracy: 0.9931 - val_loss: 8.1832 - val_accuracy: 0.5784\n",
            "Epoch 76/100\n",
            "1407/1407 [==============================] - 14s 10ms/step - loss: 0.0273 - accuracy: 0.9930 - val_loss: 8.1048 - val_accuracy: 0.5828\n",
            "Epoch 77/100\n",
            "1407/1407 [==============================] - 15s 11ms/step - loss: 0.0266 - accuracy: 0.9926 - val_loss: 7.7878 - val_accuracy: 0.5876\n",
            "Epoch 78/100\n",
            "1407/1407 [==============================] - 15s 11ms/step - loss: 0.0241 - accuracy: 0.9934 - val_loss: 8.8768 - val_accuracy: 0.5778\n",
            "Epoch 79/100\n",
            "1407/1407 [==============================] - 16s 11ms/step - loss: 0.0278 - accuracy: 0.9931 - val_loss: 8.0395 - val_accuracy: 0.5792\n",
            "Epoch 80/100\n",
            "1407/1407 [==============================] - 16s 11ms/step - loss: 0.0231 - accuracy: 0.9938 - val_loss: 8.6666 - val_accuracy: 0.5916\n",
            "Epoch 81/100\n",
            "1407/1407 [==============================] - 18s 13ms/step - loss: 0.0302 - accuracy: 0.9925 - val_loss: 8.3876 - val_accuracy: 0.5762\n",
            "Epoch 82/100\n",
            "1407/1407 [==============================] - 20s 14ms/step - loss: 0.0218 - accuracy: 0.9946 - val_loss: 8.1747 - val_accuracy: 0.5738\n",
            "Epoch 83/100\n",
            "1407/1407 [==============================] - 20s 14ms/step - loss: 0.0258 - accuracy: 0.9934 - val_loss: 8.6083 - val_accuracy: 0.5736\n",
            "Epoch 84/100\n",
            "1407/1407 [==============================] - 20s 14ms/step - loss: 0.0265 - accuracy: 0.9932 - val_loss: 8.5012 - val_accuracy: 0.5744\n",
            "Epoch 85/100\n",
            "1407/1407 [==============================] - 19s 13ms/step - loss: 0.0250 - accuracy: 0.9935 - val_loss: 8.6936 - val_accuracy: 0.5836\n",
            "Epoch 86/100\n",
            "1407/1407 [==============================] - 18s 13ms/step - loss: 0.0245 - accuracy: 0.9935 - val_loss: 8.8624 - val_accuracy: 0.5852\n",
            "Epoch 87/100\n",
            "1407/1407 [==============================] - 16s 11ms/step - loss: 0.0245 - accuracy: 0.9940 - val_loss: 8.9807 - val_accuracy: 0.5838\n",
            "Epoch 88/100\n",
            "1407/1407 [==============================] - 15s 11ms/step - loss: 0.0294 - accuracy: 0.9928 - val_loss: 8.8861 - val_accuracy: 0.5868\n",
            "Epoch 89/100\n",
            "1407/1407 [==============================] - 15s 11ms/step - loss: 0.0266 - accuracy: 0.9932 - val_loss: 8.0768 - val_accuracy: 0.5896\n",
            "Epoch 90/100\n",
            "1407/1407 [==============================] - 15s 11ms/step - loss: 0.0219 - accuracy: 0.9944 - val_loss: 8.8918 - val_accuracy: 0.5838\n",
            "Epoch 91/100\n",
            "1407/1407 [==============================] - 16s 11ms/step - loss: 0.0218 - accuracy: 0.9940 - val_loss: 8.9115 - val_accuracy: 0.5822\n",
            "Epoch 92/100\n",
            "1407/1407 [==============================] - 16s 11ms/step - loss: 0.0236 - accuracy: 0.9943 - val_loss: 9.1863 - val_accuracy: 0.5746\n",
            "Epoch 93/100\n",
            "1407/1407 [==============================] - 15s 10ms/step - loss: 0.0249 - accuracy: 0.9939 - val_loss: 8.8782 - val_accuracy: 0.5812\n",
            "Epoch 94/100\n",
            "1407/1407 [==============================] - 15s 11ms/step - loss: 0.0192 - accuracy: 0.9952 - val_loss: 9.3406 - val_accuracy: 0.5746\n",
            "Epoch 95/100\n",
            "1407/1407 [==============================] - 14s 10ms/step - loss: 0.0205 - accuracy: 0.9948 - val_loss: 8.9949 - val_accuracy: 0.5698\n",
            "Epoch 96/100\n",
            "1407/1407 [==============================] - 15s 10ms/step - loss: 0.0212 - accuracy: 0.9944 - val_loss: 9.1135 - val_accuracy: 0.5940\n",
            "Epoch 97/100\n",
            "1407/1407 [==============================] - 14s 10ms/step - loss: 0.0257 - accuracy: 0.9944 - val_loss: 8.7018 - val_accuracy: 0.5758\n",
            "Epoch 98/100\n",
            "1407/1407 [==============================] - 15s 10ms/step - loss: 0.0203 - accuracy: 0.9948 - val_loss: 9.6749 - val_accuracy: 0.5750\n",
            "Epoch 99/100\n",
            "1407/1407 [==============================] - 14s 10ms/step - loss: 0.0222 - accuracy: 0.9948 - val_loss: 9.1459 - val_accuracy: 0.5810\n",
            "Epoch 100/100\n",
            "1407/1407 [==============================] - 15s 10ms/step - loss: 0.0281 - accuracy: 0.9936 - val_loss: 9.3979 - val_accuracy: 0.5780\n"
          ],
          "name": "stdout"
        },
        {
          "output_type": "execute_result",
          "data": {
            "text/plain": [
              "<tensorflow.python.keras.callbacks.History at 0x7f3a79f1a358>"
            ]
          },
          "metadata": {
            "tags": []
          },
          "execution_count": 35
        }
      ]
    },
    {
      "cell_type": "code",
      "metadata": {
        "id": "JByTFZJPChj7",
        "colab_type": "code",
        "colab": {}
      },
      "source": [
        "from sklearn.metrics import classification_report"
      ],
      "execution_count": 37,
      "outputs": []
    },
    {
      "cell_type": "code",
      "metadata": {
        "id": "X09yaYJdCiSQ",
        "colab_type": "code",
        "colab": {
          "base_uri": "https://localhost:8080/",
          "height": 87
        },
        "outputId": "8b14c9c9-996f-439d-b14e-73e1b6836385"
      },
      "source": [
        "predictions = model.predict_classes(x_test)"
      ],
      "execution_count": 38,
      "outputs": [
        {
          "output_type": "stream",
          "text": [
            "WARNING:tensorflow:From <ipython-input-38-7de0541c035a>:1: Sequential.predict_classes (from tensorflow.python.keras.engine.sequential) is deprecated and will be removed after 2021-01-01.\n",
            "Instructions for updating:\n",
            "Please use instead:* `np.argmax(model.predict(x), axis=-1)`,   if your model does multi-class classification   (e.g. if it uses a `softmax` last-layer activation).* `(model.predict(x) > 0.5).astype(\"int32\")`,   if your model does binary classification   (e.g. if it uses a `sigmoid` last-layer activation).\n"
          ],
          "name": "stdout"
        }
      ]
    },
    {
      "cell_type": "code",
      "metadata": {
        "id": "-1TRVzG2Cidc",
        "colab_type": "code",
        "colab": {
          "base_uri": "https://localhost:8080/",
          "height": 302
        },
        "outputId": "df3be2fe-801e-4c90-c877-102855865abb"
      },
      "source": [
        "print(classification_report(y_test,predictions))"
      ],
      "execution_count": 39,
      "outputs": [
        {
          "output_type": "stream",
          "text": [
            "              precision    recall  f1-score   support\n",
            "\n",
            "           0       0.63      0.57      0.60      1000\n",
            "           1       0.69      0.71      0.70      1000\n",
            "           2       0.42      0.34      0.38      1000\n",
            "           3       0.35      0.41      0.38      1000\n",
            "           4       0.51      0.54      0.52      1000\n",
            "           5       0.45      0.52      0.48      1000\n",
            "           6       0.66      0.61      0.63      1000\n",
            "           7       0.63      0.62      0.62      1000\n",
            "           8       0.73      0.67      0.70      1000\n",
            "           9       0.65      0.70      0.67      1000\n",
            "\n",
            "    accuracy                           0.57     10000\n",
            "   macro avg       0.57      0.57      0.57     10000\n",
            "weighted avg       0.57      0.57      0.57     10000\n",
            "\n"
          ],
          "name": "stdout"
        }
      ]
    },
    {
      "cell_type": "code",
      "metadata": {
        "id": "BNreqlxFDFGZ",
        "colab_type": "code",
        "colab": {}
      },
      "source": [
        ""
      ],
      "execution_count": null,
      "outputs": []
    }
  ]
}